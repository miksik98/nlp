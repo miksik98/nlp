{
 "cells": [
  {
   "cell_type": "markdown",
   "id": "rational-string",
   "metadata": {},
   "source": [
    "# Lemmatization and full text search (FTS)\n",
    "The task is concentrated on using full text search engine (ElasticSearch) to perform basic search operations in a text corpus."
   ]
  },
  {
   "cell_type": "code",
   "execution_count": 1,
   "id": "parental-blast",
   "metadata": {},
   "outputs": [
    {
     "name": "stdout",
     "output_type": "stream",
     "text": [
      "Requirement already satisfied: elasticsearch==7.10.1 in c:\\users\\mikol\\anaconda3\\lib\\site-packages (7.10.1)\n",
      "Requirement already satisfied: urllib3<2,>=1.21.1 in c:\\users\\mikol\\anaconda3\\lib\\site-packages (from elasticsearch==7.10.1) (1.26.3)\n",
      "Requirement already satisfied: certifi in c:\\users\\mikol\\anaconda3\\lib\\site-packages (from elasticsearch==7.10.1) (2021.5.30)\n"
     ]
    }
   ],
   "source": [
    "!pip install elasticsearch==7.10.1"
   ]
  },
  {
   "cell_type": "code",
   "execution_count": 3,
   "id": "removed-intro",
   "metadata": {},
   "outputs": [],
   "source": [
    "from elasticsearch import Elasticsearch\n",
    "from elasticsearch.exceptions import NotFoundError\n",
    "import os\n",
    "import numpy as np\n",
    "from tqdm import tqdm\n",
    "import sys\n",
    "from time import sleep"
   ]
  },
  {
   "cell_type": "markdown",
   "id": "entire-delivery",
   "metadata": {},
   "source": [
    "Elasticsearch was downloaded in version 7.10.1 and run locally. Elasticsearch-analysis-morfologik plugin was added to ES using elasticsearch-plugin script."
   ]
  },
  {
   "cell_type": "markdown",
   "id": "assumed-cartridge",
   "metadata": {},
   "source": [
    "## Define an ES index for storing the contents of the legislative acts"
   ]
  },
  {
   "cell_type": "code",
   "execution_count": 4,
   "id": "incoming-validation",
   "metadata": {},
   "outputs": [],
   "source": [
    "es = Elasticsearch()"
   ]
  },
  {
   "cell_type": "code",
   "execution_count": 4,
   "id": "contemporary-ticket",
   "metadata": {},
   "outputs": [
    {
     "data": {
      "text/plain": [
       "{'acknowledged': True}"
      ]
     },
     "execution_count": 4,
     "metadata": {},
     "output_type": "execute_result"
    }
   ],
   "source": [
    "es.indices.delete('my_index')"
   ]
  },
  {
   "cell_type": "code",
   "execution_count": 5,
   "id": "ancient-final",
   "metadata": {},
   "outputs": [
    {
     "data": {
      "text/plain": [
       "{'acknowledged': True, 'shards_acknowledged': True, 'index': 'my_index'}"
      ]
     },
     "execution_count": 5,
     "metadata": {},
     "output_type": "execute_result"
    }
   ],
   "source": [
    "    es.indices.create(\n",
    "        index=\"my_index\",\n",
    "        body={\n",
    "            \"settings\": {\n",
    "                \"analysis\": {\n",
    "                    \"analyzer\": {\n",
    "                        \"default\": {\n",
    "                            \"type\": \"custom\",\n",
    "                            \"tokenizer\": \"standard\",\n",
    "                            \"filter\": [\n",
    "                                \"nlp_synonyms\",\n",
    "                                \"morfologik_stem\",\n",
    "                                \"lowercase\",\n",
    "                            ]\n",
    "                        }\n",
    "                    },\n",
    "                    \"filter\": {\n",
    "                        \"nlp_synonyms\": {\n",
    "                            \"type\": \"synonym\",\n",
    "                            \"synonyms\": [\n",
    "                                \"kpk,kodeks postępowania karnego\",\n",
    "                                \"kpc,kodeks postępowania cywilnego\",\n",
    "                                \"kk,kodeks karny\",\n",
    "                                \"kc,kodeks cywilny\",\n",
    "                            ]\n",
    "                        }\n",
    "                    }\n",
    "                }\n",
    "            },\n",
    "        }\n",
    "    )"
   ]
  },
  {
   "cell_type": "markdown",
   "id": "reported-winter",
   "metadata": {},
   "source": [
    "Name analyzer \"default\" to not include it in each query to ES."
   ]
  },
  {
   "cell_type": "markdown",
   "id": "still-warner",
   "metadata": {},
   "source": [
    "## Load the data to the ES index"
   ]
  },
  {
   "cell_type": "code",
   "execution_count": 6,
   "id": "intensive-ceiling",
   "metadata": {},
   "outputs": [
    {
     "name": "stdout",
     "output_type": "stream",
     "text": [
      "100%|██████████████████████████████████████████████████████████████████████████████| 1179/1179 [00:19<00:00, 60.58it/s]\n"
     ]
    }
   ],
   "source": [
    "ustawy_path = '../ustawy'\n",
    "with tqdm(total=1179, file=sys.stdout) as pbar:        \n",
    "    for filename in os.listdir(ustawy_path):\n",
    "        with open(ustawy_path + '/' + filename, 'r', encoding='utf8') as f:\n",
    "            content = f.read()\n",
    "            body = {\"content\": content}\n",
    "            es.create(index=\"my_index\", id=filename, body=body)\n",
    "            pbar.update(1)\n",
    "sleep(3)"
   ]
  },
  {
   "cell_type": "markdown",
   "id": "changed-break",
   "metadata": {},
   "source": [
    "## Determine the number of legislative acts containing the word ustawa (in any form)."
   ]
  },
  {
   "cell_type": "code",
   "execution_count": 5,
   "id": "resident-pollution",
   "metadata": {},
   "outputs": [
    {
     "data": {
      "text/plain": [
       "1178"
      ]
     },
     "execution_count": 5,
     "metadata": {},
     "output_type": "execute_result"
    }
   ],
   "source": [
    "es.search(\n",
    "    index=\"my_index\",\n",
    "    body={\n",
    "        \"query\": {\n",
    "            \"match\": {\n",
    "                \"content\": {\n",
    "                    \"query\": \"ustawa\"\n",
    "                }\n",
    "            }\n",
    "        }\n",
    "    }\n",
    ")[\"hits\"][\"total\"][\"value\"]"
   ]
  },
  {
   "cell_type": "markdown",
   "id": "sensitive-moses",
   "metadata": {},
   "source": [
    "https://www.elastic.co/guide/en/elasticsearch/reference/current/query-dsl-match-query.html - returns documents that match a provided text, number, date or boolean value. The provided text is analyzed before matching.\n",
    "\n",
    "From response is retrieved total count of found documents containing 'ustawa' in any form."
   ]
  },
  {
   "cell_type": "markdown",
   "id": "fundamental-cheese",
   "metadata": {},
   "source": [
    "The next task is impossible to do as \"ustaw\" is a form of \"ustawa\". So it was skipped."
   ]
  },
  {
   "cell_type": "markdown",
   "id": "general-entrance",
   "metadata": {},
   "source": [
    "## Determine the number of occurrences of the word ustawa by searching for this particular form, including the other inflectional forms."
   ]
  },
  {
   "cell_type": "code",
   "execution_count": 6,
   "id": "alert-logistics",
   "metadata": {},
   "outputs": [
    {
     "data": {
      "text/plain": [
       "24934"
      ]
     },
     "execution_count": 6,
     "metadata": {},
     "output_type": "execute_result"
    }
   ],
   "source": [
    "es.termvectors(index=\"my_index\",\n",
    "                        id=\"2001_1382.txt\",\n",
    "                        body={\n",
    "                            \"fields\": [\"content\"],\n",
    "                            \"term_statistics\": True,\n",
    "                            \"field_statistics\": True\n",
    "                        })[\"term_vectors\"][\"content\"][\"terms\"][\"ustawa\"][\"ttf\"]"
   ]
  },
  {
   "cell_type": "markdown",
   "id": "unnecessary-shore",
   "metadata": {},
   "source": [
    "https://www.elastic.co/guide/en/elasticsearch/reference/current/docs-termvectors.html#docs-termvectors-artificial-doc"
   ]
  },
  {
   "cell_type": "markdown",
   "id": "alternate-armor",
   "metadata": {},
   "source": [
    "## Determine the number of legislative acts containing the words kodeks postępowania cywilnego in the specified order, but in any inflection form."
   ]
  },
  {
   "cell_type": "code",
   "execution_count": 7,
   "id": "empty-pierce",
   "metadata": {},
   "outputs": [
    {
     "data": {
      "text/plain": [
       "99"
      ]
     },
     "execution_count": 7,
     "metadata": {},
     "output_type": "execute_result"
    }
   ],
   "source": [
    "es.search(\n",
    "    index=\"my_index\",\n",
    "    body={\n",
    "        \"query\": {\n",
    "            \"match_phrase\": {\n",
    "                \"content\": {\n",
    "                    \"query\": \"kodeks postępowania cywilnego\"\n",
    "                }\n",
    "            }\n",
    "        }\n",
    "    }\n",
    ")[\"hits\"][\"total\"][\"value\"]"
   ]
  },
  {
   "cell_type": "markdown",
   "id": "offensive-chamber",
   "metadata": {},
   "source": [
    "https://www.elastic.co/guide/en/elasticsearch/reference/current/query-dsl-match-query-phrase.html"
   ]
  },
  {
   "cell_type": "markdown",
   "id": "voluntary-premiere",
   "metadata": {},
   "source": [
    "## Determine the number of legislative acts containing the words wchodzi w życie (in any form) allowing for up to 2 additional words in the searched phrase."
   ]
  },
  {
   "cell_type": "code",
   "execution_count": 8,
   "id": "burning-fundamentals",
   "metadata": {},
   "outputs": [
    {
     "data": {
      "text/plain": [
       "1174"
      ]
     },
     "execution_count": 8,
     "metadata": {},
     "output_type": "execute_result"
    }
   ],
   "source": [
    "es.search(\n",
    "    index=\"my_index\",\n",
    "    body={\n",
    "        \"query\": {\n",
    "            \"match_phrase\": {\n",
    "                \"content\": {\n",
    "                    \"query\": \"wchodzi w życie\",\n",
    "                    \"slop\": 2\n",
    "                }\n",
    "            }\n",
    "        },\n",
    "    }\n",
    ")[\"hits\"][\"total\"][\"value\"]"
   ]
  },
  {
   "cell_type": "markdown",
   "id": "endless-composite",
   "metadata": {},
   "source": [
    "https://www.elastic.co/guide/en/elasticsearch/reference/current/query-dsl-match-query-phrase.html - slop set to 2."
   ]
  },
  {
   "cell_type": "markdown",
   "id": "centered-homeless",
   "metadata": {},
   "source": [
    "## Determine the 10 documents that are the most relevant for the phrase konstytucja."
   ]
  },
  {
   "cell_type": "code",
   "execution_count": 9,
   "id": "prepared-anger",
   "metadata": {},
   "outputs": [
    {
     "data": {
      "text/plain": [
       "['1997_629.txt',\n",
       " '2000_443.txt',\n",
       " '1997_604.txt',\n",
       " '1996_350.txt',\n",
       " '1997_642.txt',\n",
       " '2001_23.txt',\n",
       " '1996_199.txt',\n",
       " '1999_688.txt',\n",
       " '1997_681.txt',\n",
       " '2001_1082.txt']"
      ]
     },
     "execution_count": 9,
     "metadata": {},
     "output_type": "execute_result"
    }
   ],
   "source": [
    "results = es.search(\n",
    "    index=\"my_index\",\n",
    "    body={\n",
    "        \"query\": {\n",
    "            \"match\": {\n",
    "                \"content\": {\n",
    "                    \"query\": \"konstytucja\",\n",
    "                }\n",
    "            }\n",
    "        },\n",
    "        \"highlight\": {\n",
    "            \"fields\": {\n",
    "                \"content\": {}\n",
    "            },\n",
    "            \"boundary_scanner\": \"sentence\",\n",
    "            \"number_of_fragments\": 3,\n",
    "            \"order\": \"score\"\n",
    "        }\n",
    "    }\n",
    ")[\"hits\"]\n",
    "top = [[result['_score'], result['_id'], result['highlight']['content']] for result in sorted(results['hits'], key=lambda x: -x['_score'])][:10]\n",
    "list(map(lambda x: x[1], top))"
   ]
  },
  {
   "cell_type": "markdown",
   "id": "hired-submission",
   "metadata": {},
   "source": [
    "https://www.elastic.co/guide/en/elasticsearch/reference/current/highlighting.html - number_of_fragments set to 3."
   ]
  },
  {
   "cell_type": "markdown",
   "id": "particular-enough",
   "metadata": {},
   "source": [
    "## Print the excerpts containing the word konstytucja (up to three excerpts per document) from the previous task."
   ]
  },
  {
   "cell_type": "code",
   "execution_count": 10,
   "id": "negative-painting",
   "metadata": {},
   "outputs": [
    {
     "name": "stdout",
     "output_type": "stream",
     "text": [
      "W ustawie  konstytucyjnej z  dnia 23 kwietnia 1992 r. o trybie przygotowania i \n",
      "uchwalenia <em>Konstytucji</em>\n",
      "-----------------------------------------------------------------------------------------------\n",
      "o zmianie ustawy konstytucyjnej o trybie przygotowania\n",
      "           i uchwalenia <em>Konstytucji</em> Rzeczypospolitej\n",
      "-----------------------------------------------------------------------------------------------\n",
      "Do zgłoszenia projektu <em>Konstytucji</em> załącza się wykaz \n",
      "                obywateli popierających zgłoszenie\n",
      "-----------------------------------------------------------------------------------------------\n",
      "umowy międzynarodowej i nie wypełnia przesłanek określonych w art. 89\n",
      "     ust. 1 lub art. 90 <em>Konstytucji</em>\n",
      "-----------------------------------------------------------------------------------------------\n",
      "co do zasadności wyboru\n",
      "  trybu ratyfikacji umowy międzynarodowej, o którym mowa w art. 89 ust. 2\n",
      "  <em>Konstytucji</em>\n",
      "-----------------------------------------------------------------------------------------------\n",
      "międzynarodowej lub załącznika nie\n",
      "     wypełnia przesłanek określonych w art. 89 ust. 1 lub art. 90 <em>Konstytucji</em>\n",
      "-----------------------------------------------------------------------------------------------\n",
      "Jeżeli Trybunał Konstytucyjny wyda orzeczenie o sprzeczności celów partii \n",
      "   politycznej z <em>Konstytucją</em>\n",
      "-----------------------------------------------------------------------------------------------\n",
      "Jeżeli Trybunał Konstytucyjny wyda orzeczenie o sprzeczności z <em>Konstytucją</em>\n",
      "   celów lub działalności\n",
      "-----------------------------------------------------------------------------------------------\n",
      "Ciężar udowodnienia niezgodności z <em>Konstytucją</em> spoczywa\n",
      "                na wnioskodawcy, który w tym\n",
      "-----------------------------------------------------------------------------------------------\n",
      "Za naruszenie <em>Konstytucji</em> lub ustawy, w związku z zajmowanym\n",
      "              stanowiskiem lub w zakresie\n",
      "-----------------------------------------------------------------------------------------------\n",
      "W zakresie określonym w art. 107 <em>Konstytucji</em> odpowiedzialność przed\n",
      "           Trybunałem Stanu ponoszą\n",
      "-----------------------------------------------------------------------------------------------\n",
      "Członkowie Rady Ministrów ponoszą odpowiedzialność przed Trybunałem\n",
      "           Stanu za naruszenie <em>Konstytucji</em>\n",
      "-----------------------------------------------------------------------------------------------\n",
      "wnioskami o:\n",
      "             1) stwierdzenie zgodności ustaw i umów międzynarodowych z\n",
      "               <em>Konstytucją</em>\n",
      "-----------------------------------------------------------------------------------------------\n",
      "stwierdzenie zgodności przepisów prawa wydawanych przez\n",
      "               centralne organy państwowe, z <em>Konstytucją</em>\n",
      "-----------------------------------------------------------------------------------------------\n",
      "ratyfikowanymi\n",
      "               umowami międzynarodowymi i ustawami,\n",
      "             4) stwierdzenie zgodności z <em>Konstytucją</em>\n",
      "-----------------------------------------------------------------------------------------------\n",
      "W Dzienniku Ustaw Rzeczypospolitej Polskiej, zwanym dalej \"Dziennikiem\n",
      "  Ustaw\", ogłasza się:\n",
      "   1) <em>Konstytucję</em>\n",
      "-----------------------------------------------------------------------------------------------\n",
      "akty prawne dotyczące:\n",
      "   1) stanu wojny i zawarcia pokoju,\n",
      "   2) referendum zatwierdzającego zmianę <em>Konstytucji</em>\n",
      "-----------------------------------------------------------------------------------------------\n",
      "ministra, któremu Sejm wyraził wotum nieufności,\n",
      "     h) powoływania lub odwoływania na określone w <em>Konstytucji</em>\n",
      "-----------------------------------------------------------------------------------------------\n",
      "Prezydent Rzeczypospolitej Polskiej zarządza poddanie <em>Konstytucji</em> pod referendum\n",
      "   w trybie określonym\n",
      "-----------------------------------------------------------------------------------------------\n",
      "Przyjęcie w referendum <em>Konstytucji</em> następuje wówczas, gdy opowiedziała \n",
      "   się za nią większość biorących\n",
      "-----------------------------------------------------------------------------------------------\n",
      "2c i art. 9-11 ustawy konstytucyjnej z dnia 23 kwietnia \n",
      "1992 r. o trybie przygotowania i uchwalenia <em>Konstytucji</em>\n",
      "-----------------------------------------------------------------------------------------------\n",
      "Projekt ustawy nie może dotyczyć spraw, dla których <em>Konstytucja</em>\n",
      "Rzeczypospolitej Polskiej zastrzega wyłączną\n",
      "-----------------------------------------------------------------------------------------------\n",
      "Projekt ustawy wniesiony do Marszałka Sejmu powinien odpowiadać wymogom\n",
      "  zawartym w <em>Konstytucji</em> i Regulaminie\n",
      "-----------------------------------------------------------------------------------------------\n",
      "postępowania w sprawie wykonywania inicjatywy\n",
      "ustawodawczej przez obywateli, o której mowa w art. 118 ust. 2 <em>Konstytucji</em>\n",
      "-----------------------------------------------------------------------------------------------\n",
      "Rzecznik Praw Dziecka, zwany dalej Rzecznikiem, stoi na straży praw dziecka\n",
      "  określonych w <em>Konstytucji</em>\n",
      "-----------------------------------------------------------------------------------------------\n",
      "uroczyście, że przy wykonywaniu powierzonych mi obowiązków\n",
      "     Rzecznika Praw Dziecka dochowam wierności <em>Konstytucji</em>\n",
      "-----------------------------------------------------------------------------------------------\n",
      "Krajowa Rada Sądownictwa, zwana dalej \"Radą\", realizuje cele określone w\n",
      "  <em>Konstytucji</em> Rzeczypospolitej\n",
      "-----------------------------------------------------------------------------------------------\n",
      ") podejmuje uchwały w sprawach wystąpienia do Trybunału Konstytucyjnego o\n",
      "     zbadanie zgodności z <em>Konstytucją</em>\n",
      "-----------------------------------------------------------------------------------------------\n"
     ]
    }
   ],
   "source": [
    "for l in list(map(lambda x: x[2], top)):\n",
    "    for sentence in l:\n",
    "        print(sentence)\n",
    "        print(\"-----------------------------------------------------------------------------------------------\")"
   ]
  },
  {
   "cell_type": "markdown",
   "id": "personalized-tucson",
   "metadata": {},
   "source": [
    "Autor: Mikołaj Sikora (grupa 12:50)"
   ]
  }
 ],
 "metadata": {
  "kernelspec": {
   "display_name": "Python 3",
   "language": "python",
   "name": "python3"
  },
  "language_info": {
   "codemirror_mode": {
    "name": "ipython",
    "version": 3
   },
   "file_extension": ".py",
   "mimetype": "text/x-python",
   "name": "python",
   "nbconvert_exporter": "python",
   "pygments_lexer": "ipython3",
   "version": "3.8.8"
  }
 },
 "nbformat": 4,
 "nbformat_minor": 5
}
