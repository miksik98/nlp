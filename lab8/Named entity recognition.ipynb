{
 "cells": [
  {
   "cell_type": "markdown",
   "id": "advised-revision",
   "metadata": {},
   "source": [
    "# Named entity recognition\n",
    "\n",
    "The exercise shows how we may extract elements such as names of companies, countries and similar objects from text."
   ]
  },
  {
   "cell_type": "code",
   "execution_count": 164,
   "id": "weighted-penetration",
   "metadata": {},
   "outputs": [],
   "source": [
    "from tqdm import tqdm\n",
    "import sys\n",
    "import os\n",
    "import requests\n",
    "import regex\n",
    "from collections import Counter\n",
    "import xml.etree.ElementTree as ET\n",
    "import pandas as pd"
   ]
  },
  {
   "cell_type": "code",
   "execution_count": 111,
   "id": "afraid-sewing",
   "metadata": {},
   "outputs": [],
   "source": [
    "ustawy_path = '../ustawy'\n",
    "ustawy_tagged_path = 'tagged_ustawy'"
   ]
  },
  {
   "cell_type": "markdown",
   "id": "listed-blanket",
   "metadata": {},
   "source": [
    "## Sort bills according to their size and take top 50 (largest) bills."
   ]
  },
  {
   "cell_type": "code",
   "execution_count": 112,
   "id": "postal-behalf",
   "metadata": {},
   "outputs": [
    {
     "name": "stdout",
     "output_type": "stream",
     "text": [
      "100%|█████████████████████████████████████████████████████████████████████████████| 1179/1179 [00:05<00:00, 212.35it/s]\n"
     ]
    }
   ],
   "source": [
    "legislation_acts = {}\n",
    "\n",
    "with tqdm(total=1179, file=sys.stdout) as pbar: \n",
    "    for filename in os.listdir(ustawy_path):\n",
    "            with open(ustawy_path + '/' + filename, 'r', encoding='utf8') as f:\n",
    "                content = f.read()\n",
    "                legislation_acts[filename] = content\n",
    "                pbar.update(1)"
   ]
  },
  {
   "cell_type": "code",
   "execution_count": 113,
   "id": "undefined-partition",
   "metadata": {},
   "outputs": [],
   "source": [
    "longest_legislation_acts = list(legislation_acts.items())\n",
    "longest_legislation_acts.sort(reverse=True, key=lambda a: len(a[1]))\n",
    "longest_legislation_acts = longest_legislation_acts[:50]"
   ]
  },
  {
   "cell_type": "code",
   "execution_count": 114,
   "id": "olympic-maryland",
   "metadata": {},
   "outputs": [],
   "source": [
    "new_line_re = regex.compile(r'\\n+|\\s+|\\t+')\n",
    "longest_legislation_acts = [(name, new_line_re.sub(' ', act)) for name, act in longest_legislation_acts]"
   ]
  },
  {
   "cell_type": "markdown",
   "id": "religious-giant",
   "metadata": {},
   "source": [
    "## Use the lemmatized and sentence split documents (from ex. 5) to identify the expressions that consist of consecutive words starting with a capital letter (you will have to look at the inflected form of the word to check its capitalization) that do not occupy the first position in a sentence."
   ]
  },
  {
   "cell_type": "code",
   "execution_count": 115,
   "id": "diverse-bearing",
   "metadata": {},
   "outputs": [],
   "source": [
    "def tag_text(text):\n",
    "    response = requests.post(\"http://localhost:9200\", data=text.encode(\"utf-8\"))\n",
    "    return response.content.decode(\"utf-8\")"
   ]
  },
  {
   "cell_type": "code",
   "execution_count": 116,
   "id": "uniform-event",
   "metadata": {},
   "outputs": [],
   "source": [
    "legislation_acts_tagged = {}"
   ]
  },
  {
   "cell_type": "code",
   "execution_count": 117,
   "id": "unlike-notice",
   "metadata": {},
   "outputs": [
    {
     "name": "stdout",
     "output_type": "stream",
     "text": [
      "100%|██████████████████████████████████████████████████████████████████████████████████| 50/50 [17:44<00:00, 21.29s/it]\n"
     ]
    }
   ],
   "source": [
    "# with tqdm(total=len(longest_legislation_acts), file=sys.stdout) as pbar:\n",
    "#     for filename, text in longest_legislation_acts:\n",
    "#         legislation_acts_tagged[filename] = tag_text(text)\n",
    "#         pbar.update(1)"
   ]
  },
  {
   "cell_type": "code",
   "execution_count": 118,
   "id": "improved-gambling",
   "metadata": {},
   "outputs": [],
   "source": [
    "# for filename, tagged_content in legislation_acts_tagged.items():\n",
    "#     with open(ustawy_tagged_path + '/' + filename, 'w+', encoding='utf-8') as f:\n",
    "#         f.write(tagged_content)"
   ]
  },
  {
   "cell_type": "code",
   "execution_count": 119,
   "id": "vertical-measure",
   "metadata": {},
   "outputs": [
    {
     "name": "stdout",
     "output_type": "stream",
     "text": [
      "100%|██████████████████████████████████████████████████████████████████████████████████| 50/50 [00:00<00:00, 75.20it/s]\n"
     ]
    }
   ],
   "source": [
    "with tqdm(total=len(os.listdir(ustawy_tagged_path)), file=sys.stdout) as pbar:\n",
    "    for filename in os.listdir(ustawy_tagged_path):\n",
    "            with open(ustawy_tagged_path + '/' + filename, 'r', encoding='utf8') as f:\n",
    "                tagged_content = f.read()\n",
    "                legislation_acts_tagged[filename] = tagged_content\n",
    "                pbar.update(1)"
   ]
  },
  {
   "cell_type": "code",
   "execution_count": 120,
   "id": "corrected-mother",
   "metadata": {},
   "outputs": [
    {
     "name": "stderr",
     "output_type": "stream",
     "text": [
      "IOPub data rate exceeded.\n",
      "The notebook server will temporarily stop sending output\n",
      "to the client in order to avoid crashing it.\n",
      "To change this limit, set the config variable\n",
      "`--NotebookApp.iopub_data_rate_limit`.\n",
      "\n",
      "Current values:\n",
      "NotebookApp.iopub_data_rate_limit=1000000.0 (bytes/sec)\n",
      "NotebookApp.rate_limit_window=3.0 (secs)\n",
      "\n"
     ]
    }
   ],
   "source": [
    "print(list(legislation_acts_tagged.items())[0][1])"
   ]
  },
  {
   "cell_type": "code",
   "execution_count": 143,
   "id": "french-transcription",
   "metadata": {},
   "outputs": [],
   "source": [
    "def basic_named_entity_recongnition(tags):\n",
    "    result = []\n",
    "    c = \"\"\n",
    "    for i in range(len(tags)):\n",
    "        if tags[i][0][0].isupper() and (i == 0 or tags[i-1][0] != '.'):\n",
    "            if tags[i-1][0][0].isupper():\n",
    "                if c == \"\":\n",
    "                    c = tags[i][1]\n",
    "                else: \n",
    "                    c = c + \" \" + tags[i][1]\n",
    "            else:\n",
    "                if c == \"\":\n",
    "                    result.append(tags[i][1])\n",
    "                else:    \n",
    "                    result.append(c)\n",
    "                    c = \"\"\n",
    "    return Counter(result)\n",
    "    "
   ]
  },
  {
   "cell_type": "code",
   "execution_count": 144,
   "id": "stuffed-citation",
   "metadata": {},
   "outputs": [
    {
     "name": "stdout",
     "output_type": "stream",
     "text": [
      "[['Dz', 'dziennik'], ['.', '.'], ['U', 'ustawa'], ['.', '.'], ['z', 'z'], ['1998', '1998'], ['r', 'rok'], ['.', '.'], ['Nr', 'numer'], ['106', '106'], [',', ','], ['poz', 'pozycja'], ['.', '.'], ['668', '668'], ['USTAWA', 'ustawa'], ['z', 'z'], ['dnia', 'dzień'], ['24', '24'], ['lipca', 'lipiec'], ['1998', '1998'], ['r', 'rok'], ['.', '.'], ['o', 'o'], ['zmianie', 'zmiana'], ['niektórych', 'niektóry'], ['ustaw', 'ustawa'], ['określających', 'określać'], ['kompetencje', 'kompetencja'], ['organów', 'organ'], ['administracji', 'administracja'], ['publicznej', 'publiczny'], ['-', '-'], ['w', 'w'], ['związku', 'związek'], ['z', 'z'], ['reformą', 'reforma'], ['ustrojową', 'ustrojowy'], ['państwa', 'państwo'], ['Art', 'artykuł'], ['.', '.'], ['1', '1'], ['.', '.'], ['W', 'w'], ['ustawie', 'ustawa'], ['z', 'z'], ['dnia', 'dzień'], ['24', '24'], ['marca', 'marzec'], ['1920', '1920'], ['r', 'rok'], ['.', '.'], ['o', 'o'], ['nabywaniu', 'nabywać'], ['nieruchomości', 'nieruchomość'], ['przez', 'przez'], ['cudzoziemców', 'cudzoziemiec'], ['(', '('], ['Dz', 'dziennik'], ['.', '.'], ['U', 'ustawa'], ['.', '.'], ['z', 'z'], ['1996', '1996'], ['r', 'rok'], ['.', '.'], ['Nr', 'numer'], ['54', '54'], [',', ','], ['poz', 'pozycja'], ['.', '.'], ['245', '245'], ['i', 'i'], ['z', 'z'], ['1997', '1997'], ['r', 'rok'], ['.', '.'], ['Nr', 'numer'], ['140', '140'], [',', ','], ['poz', 'pozycja'], ['.', '.'], ['939', '939'], [')', ')'], ['wprowadza', 'wprowadzać'], ['się', 'się'], ['następujące', 'następujący'], ['zmiany', 'zmiana'], [':', ':'], ['1', '1'], [')', ')'], ['w', 'w'], ['art', 'artykuł'], ['.', '.'], ['6', '6'], ['ust', 'ustęp'], ['.', '.'], ['2', '2'], ['otrzymuje', 'otrzymywać'], ['brzmienie', 'brzmienie'], [':', ':']]\n"
     ]
    }
   ],
   "source": [
    "def mapper(l):\n",
    "    filtered = list(filter(lambda x: x is not None, l))\n",
    "    result = []\n",
    "    for i in range(len(filtered)):\n",
    "        if i % 2 == 1:\n",
    "            result.append([filtered[i-1], filtered[i]])\n",
    "    return result        \n",
    "        \n",
    "\n",
    "tags = [mapper(list(map(lambda x: x.split()[0] if x.split() != [] else None, c.split('\\n')))) for n, c in legislation_acts_tagged.items()]\n",
    "print(tags[0][:100])"
   ]
  },
  {
   "cell_type": "code",
   "execution_count": 145,
   "id": "generic-husband",
   "metadata": {},
   "outputs": [],
   "source": [
    "counter = Counter([])\n",
    "for tag in tags:\n",
    "    counter += basic_named_entity_recongnition(tag)"
   ]
  },
  {
   "cell_type": "markdown",
   "id": "hazardous-mongolia",
   "metadata": {},
   "source": [
    "## Compute the frequency of each identified expression and print 50 results with the largest number of occurrences."
   ]
  },
  {
   "cell_type": "code",
   "execution_count": 146,
   "id": "covered-information",
   "metadata": {},
   "outputs": [
    {
     "data": {
      "text/plain": [
       "[('numer', 3828),\n",
       " ('artykuł', 1216),\n",
       " ('dziennik', 1106),\n",
       " ('polski', 849),\n",
       " ('europejski', 549),\n",
       " ('minister', 446),\n",
       " ('państwo', 399),\n",
       " ('kodeks', 342),\n",
       " ('urząd', 291),\n",
       " ('graniczny', 276),\n",
       " ('chory', 270),\n",
       " ('Rzeczpospolita', 268),\n",
       " ('fundusz', 258),\n",
       " ('prezes', 239),\n",
       " ('policja', 238),\n",
       " ('straż pożarny', 231),\n",
       " ('prawo', 219),\n",
       " ('zakład', 218),\n",
       " ('obrona narodowy', 201),\n",
       " ('sprawiedliwość', 195),\n",
       " ('komisja wyborczy', 176),\n",
       " ('państwowy', 171),\n",
       " ('azot', 164),\n",
       " ('rada', 162),\n",
       " ('zmiana', 162),\n",
       " ('rada minister', 152),\n",
       " ('nadzór wewnętrzny', 147),\n",
       " ('nawóz', 144),\n",
       " ('pozostały', 143),\n",
       " ('skarb', 141),\n",
       " ('tkanina', 141),\n",
       " ('I', 138),\n",
       " ('finanse', 137),\n",
       " ('II', 135),\n",
       " ('patentowy', 134),\n",
       " ('straż', 117),\n",
       " ('ubezpieczenie społeczny', 115),\n",
       " ('P2O5', 115),\n",
       " ('komisja', 114),\n",
       " ('porozumienie', 114),\n",
       " ('sprawa wewnętrzny', 107),\n",
       " ('handel', 105),\n",
       " ('ochrona państwo', 104),\n",
       " ('obszar gospodarczy', 103),\n",
       " ('Rzeczpospolita polski', 94),\n",
       " ('biuro', 94),\n",
       " ('III', 93),\n",
       " ('damski', 93),\n",
       " ('maszyna', 90),\n",
       " ('Polska', 87)]"
      ]
     },
     "execution_count": 146,
     "metadata": {},
     "output_type": "execute_result"
    }
   ],
   "source": [
    "counter.most_common()[:50]"
   ]
  },
  {
   "cell_type": "markdown",
   "id": "employed-economics",
   "metadata": {},
   "source": [
    "## Apply the NER algorithm to identify the named entities in the same set of documents (not lemmatized) using the n82 model."
   ]
  },
  {
   "cell_type": "code",
   "execution_count": 175,
   "id": "polished-chapel",
   "metadata": {},
   "outputs": [],
   "source": [
    "def make_request(act):\n",
    "    r = requests.post('https://ws.clarin-pl.eu/nlprest2/base/startTask', json={ \n",
    "        \"lpmn\":'any2txt|wcrft2|liner2({\"model\":\"n82\"})',\n",
    "        \"text\": act\n",
    "    })\n",
    "\n",
    "    return r.text\n",
    "\n",
    "def ask_clarin(acts):\n",
    "    return {name: make_request(act) for name, act in acts}\n",
    "\n",
    "acts_requests_ids = ask_clarin(longest_legislation_acts)"
   ]
  },
  {
   "cell_type": "code",
   "execution_count": 161,
   "id": "imported-duncan",
   "metadata": {},
   "outputs": [
    {
     "name": "stderr",
     "output_type": "stream",
     "text": [
      "100%|██████████████████████████████████████████████████████████████████████████████████| 50/50 [05:37<00:00,  6.76s/it]\n"
     ]
    }
   ],
   "source": [
    "def get_response(request_id, file_name):\n",
    "    status = requests.get('https://ws.clarin-pl.eu/nlprest2/base/getStatus/'+request_id).json()\n",
    "    \n",
    "    if status[\"status\"] == \"DONE\":\n",
    "        fileID = status[\"value\"][0][\"fileID\"]\n",
    "        t = requests.get(\"https://ws.clarin-pl.eu/nlprest2/base/download\"+fileID).text\n",
    "        return t\n",
    "    else:\n",
    "        print(f\"{request_id} for {file_name} is not yet ready\")\n",
    "        return None\n",
    "    \n",
    "def get_responses(acts_requests_ids):\n",
    "    result = {}\n",
    "    for name in tqdm(acts_requests_ids):\n",
    "        result[name] = get_response(acts_requests_ids[name], f\"clarin_responses/clarin_response_{name}\")\n",
    "    return result    \n",
    "        \n",
    "clarin_dict = get_responses(acts_requests_ids)"
   ]
  },
  {
   "cell_type": "code",
   "execution_count": 188,
   "id": "tough-estonia",
   "metadata": {},
   "outputs": [],
   "source": [
    "def parse(root):\n",
    "    result = []\n",
    "    sent_id = 0\n",
    "    for chunk in root:\n",
    "        for sentence in chunk:\n",
    "            for token in sentence:\n",
    "                if token.tag == \"tok\":                    \n",
    "                    orth_t = token.find(\"orth\")\n",
    "                    orth = orth_t.text if orth_t is not None else None\n",
    "                    lex_t = token.find(\"lex\")\n",
    "                    lex = lex_t.find(\"base\").text if lex_t is not None else None\n",
    "                    ne_attrs = set([])\n",
    "\n",
    "                    for token_lex in token:\n",
    "                        if token_lex.tag == \"ann\":\n",
    "                            for attr_name in token_lex.attrib:\n",
    "                                if attr_name == \"chan\" and token_lex.attrib[attr_name].startswith(\"nam_\"):\n",
    "                                    if token_lex.text == \"1\":\n",
    "                                        ne_attrs.add((token_lex.attrib[attr_name]))\n",
    "                    result.append((orth, lex, sent_id, ne_attrs))\n",
    "            sent_id += 1\n",
    "    return result\n",
    "\n",
    "def clarin_name_entity_recognition_single(name):\n",
    "    root = ET.ElementTree(ET.fromstring(clarin_dict[name])).getroot()\n",
    "    lexs = parse(root)\n",
    "    cur_tags = {}\n",
    "    result = []\n",
    "    for lex in lexs:\n",
    "        ctags = set(cur_tags.keys())\n",
    "        new_tags = lex[3] - ctags\n",
    "        cont_tags = lex[3] & ctags\n",
    "        end_tags = ctags - lex[3]\n",
    "        for t in new_tags:\n",
    "            cur_tags[t] = [ lex ]\n",
    "        for t in end_tags:\n",
    "            res.append(cur_tags[t])\n",
    "            del cur_tags[t]\n",
    "        for t in cont_tags:\n",
    "            cur_tags[t].append(lex)\n",
    "    for t in cur_tags:\n",
    "        result.append(cur_tags[t])\n",
    "    return result\n",
    "\n",
    "def clarin_name_entity_recognition(acts):\n",
    "    res = []\n",
    "    for name, _ in acts:\n",
    "        for en in clarin_name_entity_recognition_single(name):\n",
    "            cat = next(iter(en[0][3]))\n",
    "            en_text = \" \".join(map(lambda x: x[1], en))\n",
    "            orig_text = \" \".join(map(lambda x: x[0], en))\n",
    "            res.append((en_text, orig_text, cat))\n",
    "    return pd.DataFrame(data=res, columns=['lemmatized', 'original', 'category'])\n",
    "\n",
    "clarin_entities = clarin_name_entity_recognition(longest_legislation_acts)"
   ]
  },
  {
   "cell_type": "markdown",
   "id": "controlled-command",
   "metadata": {},
   "source": [
    "## Plot the frequency (histogram) of the coarse-grained classes (e.g. nam_adj, nam_eve, nam_fac)."
   ]
  },
  {
   "cell_type": "code",
   "execution_count": 189,
   "id": "instructional-check",
   "metadata": {},
   "outputs": [],
   "source": [
    "clarin_entities[\"coarse_grained_category\"] = clarin_entities[\"category\"].apply(lambda x: f\"{x.split('_')[0]}_{x.split('_')[1]}\")"
   ]
  },
  {
   "cell_type": "code",
   "execution_count": 190,
   "id": "desirable-house",
   "metadata": {},
   "outputs": [
    {
     "data": {
      "text/html": [
       "<div>\n",
       "<style scoped>\n",
       "    .dataframe tbody tr th:only-of-type {\n",
       "        vertical-align: middle;\n",
       "    }\n",
       "\n",
       "    .dataframe tbody tr th {\n",
       "        vertical-align: top;\n",
       "    }\n",
       "\n",
       "    .dataframe thead th {\n",
       "        text-align: right;\n",
       "    }\n",
       "</style>\n",
       "<table border=\"1\" class=\"dataframe\">\n",
       "  <thead>\n",
       "    <tr style=\"text-align: right;\">\n",
       "      <th></th>\n",
       "      <th>lemmatized</th>\n",
       "    </tr>\n",
       "    <tr>\n",
       "      <th>coarse_grained_category</th>\n",
       "      <th></th>\n",
       "    </tr>\n",
       "  </thead>\n",
       "  <tbody>\n",
       "    <tr>\n",
       "      <th>nam_org</th>\n",
       "      <td>6722</td>\n",
       "    </tr>\n",
       "    <tr>\n",
       "      <th>nam_pro</th>\n",
       "      <td>3100</td>\n",
       "    </tr>\n",
       "    <tr>\n",
       "      <th>nam_loc</th>\n",
       "      <td>1089</td>\n",
       "    </tr>\n",
       "    <tr>\n",
       "      <th>nam_liv</th>\n",
       "      <td>598</td>\n",
       "    </tr>\n",
       "    <tr>\n",
       "      <th>nam_oth</th>\n",
       "      <td>383</td>\n",
       "    </tr>\n",
       "    <tr>\n",
       "      <th>nam_adj</th>\n",
       "      <td>312</td>\n",
       "    </tr>\n",
       "    <tr>\n",
       "      <th>nam_fac</th>\n",
       "      <td>132</td>\n",
       "    </tr>\n",
       "    <tr>\n",
       "      <th>nam_eve</th>\n",
       "      <td>33</td>\n",
       "    </tr>\n",
       "    <tr>\n",
       "      <th>nam_num</th>\n",
       "      <td>16</td>\n",
       "    </tr>\n",
       "  </tbody>\n",
       "</table>\n",
       "</div>"
      ],
      "text/plain": [
       "                         lemmatized\n",
       "coarse_grained_category            \n",
       "nam_org                        6722\n",
       "nam_pro                        3100\n",
       "nam_loc                        1089\n",
       "nam_liv                         598\n",
       "nam_oth                         383\n",
       "nam_adj                         312\n",
       "nam_fac                         132\n",
       "nam_eve                          33\n",
       "nam_num                          16"
      ]
     },
     "execution_count": 190,
     "metadata": {},
     "output_type": "execute_result"
    }
   ],
   "source": [
    "coarse_grained = clarin_entities.groupby(\"coarse_grained_category\").agg({\"lemmatized\": \"count\"}).sort_values([\"lemmatized\"], ascending=[0])\n",
    "coarse_grained"
   ]
  },
  {
   "cell_type": "code",
   "execution_count": 191,
   "id": "informative-template",
   "metadata": {},
   "outputs": [
    {
     "data": {
      "text/plain": [
       "array([[<AxesSubplot:title={'center':'lemmatized'}>]], dtype=object)"
      ]
     },
     "execution_count": 191,
     "metadata": {},
     "output_type": "execute_result"
    },
    {
     "data": {
      "image/png": "[encoded data removed]",
      "text/plain": [
       "<Figure size 432x288 with 1 Axes>"
      ]
     },
     "metadata": {
      "needs_background": "light"
     },
     "output_type": "display_data"
    }
   ],
   "source": [
    "coarse_grained.hist(column=\"lemmatized\")"
   ]
  },
  {
   "cell_type": "markdown",
   "id": "joint-shield",
   "metadata": {},
   "source": [
    "## Display 10 most frequent Named Entities for each coarse-grained type."
   ]
  },
  {
   "cell_type": "code",
   "execution_count": 207,
   "id": "printable-reggae",
   "metadata": {},
   "outputs": [
    {
     "name": "stdout",
     "output_type": "stream",
     "text": [
      "coarse_grained_category\n",
      "nam_adj                                                                                                                                                                       [polski, polskim, polskim, polskiego, warszawski, wojewódzkiego, polskie, polskimi, Wojewódzki, Wojewódzki]\n",
      "nam_eve                      [Generalny Konserwator Zabytków, Ochrony Roślin, Monitorze Sądowym, Monitorze Sądowym, Monitorze Sądowym i Gospodarczym, Narodowy Bank Polski, Międzynarodowe Standardy Rachunkowości, II wojny światowej, Oddział 2 Tranzyt, X . Opieka domowa nad dziećmi]\n",
      "nam_fac                                                                                              [Komendant Główny, Komendant Główny, Komendant Główny, Komendant Główny, Komendant Główny, Komendant Główny, Komendant Główny, Komendant Główny, Komendant Główny, Komendant Główny]\n",
      "nam_liv     [Komendę Uzupełnień, M, Głównym Inspektorem, Głównego Inspektora, Głównego Inspektora, Głównego Inspektora, Głównego Inspektora, Głównego Inspektora Skupu i Przetwórstwa Artykułów Rolnych, Głównego Inspektora, Głównego Inspektora Skupu i Przetwórstwa Artykułów Rolnych]\n",
      "nam_loc                                                                                                                     [Ziem Odzyskanych, Ziem Odzyskanych, Ziem Odzyskanych, Warszawy, Warszawa Centrum, Polsce, Rzeczypospolitej Polskiej, Polsce, Warszawy, Ziemiach Odzyskanych]\n",
      "nam_num                                                                                                                                                                                                                                                  [112, 1, 1, 1, 1, 1, 1, 1, 1, 1]\n",
      "nam_org    [Rada Ministrów, Minister Spraw Wewnętrznych, Minister Spraw Wewnętrznych i Administracji, Wolnego Miasta Gdańska, Wolnego Miasta Gdańska, Centralny Rejestr Skazanych, Państwowej Inspekcji Handlowej, Państwowa Inspekcja Handlowa, Inspekcja Handlowa, Inspekcji Handlowej]\n",
      "nam_oth                                                                                                                                                                                [Minister Edukacji Narodowej, Minister Edukacji Narodowej, EURO, MHz, MHz, zł, zł, zł, EURO, EURO]\n",
      "nam_pro                                                                    [Dz . U ., Dz . U ., ustawie z dnia 15 marca 1933 r . o zbiórkach publicznych, Dz . U ., ustawie z dnia 28 marca 1933 r . o grobach i cmentarzach wojennych, Dz . U ., Dz . U ., Dz . U ., Dz . U ., Dz . U .]\n",
      "Name: original, dtype: object\n"
     ]
    }
   ],
   "source": [
    "with pd.option_context('display.max_rows', None, 'display.max_columns', None):\n",
    "    print(clarin_entities.groupby(\"coarse_grained_category\")[\"original\"].apply(lambda x: list(x)[:10]))"
   ]
  },
  {
   "cell_type": "markdown",
   "id": "turkish-integration",
   "metadata": {},
   "source": [
    "## Display 50 most frequent Named Entities including their count and fine-grained type."
   ]
  },
  {
   "cell_type": "code",
   "execution_count": 202,
   "id": "strategic-liabilities",
   "metadata": {},
   "outputs": [
    {
     "data": {
      "text/html": [
       "<div>\n",
       "<style scoped>\n",
       "    .dataframe tbody tr th:only-of-type {\n",
       "        vertical-align: middle;\n",
       "    }\n",
       "\n",
       "    .dataframe tbody tr th {\n",
       "        vertical-align: top;\n",
       "    }\n",
       "\n",
       "    .dataframe thead th {\n",
       "        text-align: right;\n",
       "    }\n",
       "</style>\n",
       "<table border=\"1\" class=\"dataframe\">\n",
       "  <thead>\n",
       "    <tr style=\"text-align: right;\">\n",
       "      <th></th>\n",
       "      <th>original</th>\n",
       "      <th>category</th>\n",
       "    </tr>\n",
       "    <tr>\n",
       "      <th>lemmatized</th>\n",
       "      <th></th>\n",
       "      <th></th>\n",
       "    </tr>\n",
       "  </thead>\n",
       "  <tbody>\n",
       "    <tr>\n",
       "      <th>Dzieje_(Apostolskie) . u .</th>\n",
       "      <td>1081</td>\n",
       "      <td>nam_pro_media_periodic</td>\n",
       "    </tr>\n",
       "    <tr>\n",
       "      <th>rzeczpospolita polski</th>\n",
       "      <td>677</td>\n",
       "      <td>nam_loc_gpe_country</td>\n",
       "    </tr>\n",
       "    <tr>\n",
       "      <th>dziennik . u .</th>\n",
       "      <td>414</td>\n",
       "      <td>nam_pro_media_periodic</td>\n",
       "    </tr>\n",
       "    <tr>\n",
       "      <th>skarb państwo</th>\n",
       "      <td>307</td>\n",
       "      <td>nam_org_institution</td>\n",
       "    </tr>\n",
       "    <tr>\n",
       "      <th>minister sprawiedliwość</th>\n",
       "      <td>274</td>\n",
       "      <td>nam_org_institution</td>\n",
       "    </tr>\n",
       "    <tr>\n",
       "      <th>rada minister</th>\n",
       "      <td>262</td>\n",
       "      <td>nam_org_institution</td>\n",
       "    </tr>\n",
       "    <tr>\n",
       "      <th>minister obrona narodowy</th>\n",
       "      <td>226</td>\n",
       "      <td>nam_org_institution</td>\n",
       "    </tr>\n",
       "    <tr>\n",
       "      <th>unia europejski</th>\n",
       "      <td>226</td>\n",
       "      <td>nam_org_organization</td>\n",
       "    </tr>\n",
       "    <tr>\n",
       "      <th>państwowy komisja wyborczy</th>\n",
       "      <td>215</td>\n",
       "      <td>nam_org_institution</td>\n",
       "    </tr>\n",
       "    <tr>\n",
       "      <th>złoty</th>\n",
       "      <td>210</td>\n",
       "      <td>nam_oth_currency</td>\n",
       "    </tr>\n",
       "    <tr>\n",
       "      <th>prezes rad minister</th>\n",
       "      <td>195</td>\n",
       "      <td>nam_org_institution</td>\n",
       "    </tr>\n",
       "    <tr>\n",
       "      <th>państwowy straż pożarny</th>\n",
       "      <td>188</td>\n",
       "      <td>nam_org_organization</td>\n",
       "    </tr>\n",
       "    <tr>\n",
       "      <th>polski</th>\n",
       "      <td>187</td>\n",
       "      <td>nam_adj_country</td>\n",
       "    </tr>\n",
       "    <tr>\n",
       "      <th>urząd patentowy</th>\n",
       "      <td>170</td>\n",
       "      <td>nam_org_institution</td>\n",
       "    </tr>\n",
       "    <tr>\n",
       "      <th>minister finanse</th>\n",
       "      <td>169</td>\n",
       "      <td>nam_org_institution</td>\n",
       "    </tr>\n",
       "    <tr>\n",
       "      <th>prezes urząd</th>\n",
       "      <td>143</td>\n",
       "      <td>nam_org_institution</td>\n",
       "    </tr>\n",
       "    <tr>\n",
       "      <th>kasa chora</th>\n",
       "      <td>124</td>\n",
       "      <td>nam_liv_person</td>\n",
       "    </tr>\n",
       "    <tr>\n",
       "      <th>straż graniczny</th>\n",
       "      <td>101</td>\n",
       "      <td>nam_liv_person</td>\n",
       "    </tr>\n",
       "    <tr>\n",
       "      <th>europejski porozumienie o Wolny handel</th>\n",
       "      <td>85</td>\n",
       "      <td>nam_org_company</td>\n",
       "    </tr>\n",
       "    <tr>\n",
       "      <th>euro</th>\n",
       "      <td>82</td>\n",
       "      <td>nam_oth_currency</td>\n",
       "    </tr>\n",
       "    <tr>\n",
       "      <th>okręgowy komisja wyborczy</th>\n",
       "      <td>81</td>\n",
       "      <td>nam_org_institution</td>\n",
       "    </tr>\n",
       "    <tr>\n",
       "      <th>okręg</th>\n",
       "      <td>80</td>\n",
       "      <td>nam_org_organization</td>\n",
       "    </tr>\n",
       "    <tr>\n",
       "      <th>sąd najwyższy</th>\n",
       "      <td>79</td>\n",
       "      <td>nam_org_institution</td>\n",
       "    </tr>\n",
       "    <tr>\n",
       "      <th>urząd ochrona państwo</th>\n",
       "      <td>78</td>\n",
       "      <td>nam_org_institution</td>\n",
       "    </tr>\n",
       "    <tr>\n",
       "      <th>dziennik . URz</th>\n",
       "      <td>78</td>\n",
       "      <td>nam_pro_media_periodic</td>\n",
       "    </tr>\n",
       "    <tr>\n",
       "      <th>ordynacja podatkowy</th>\n",
       "      <td>76</td>\n",
       "      <td>nam_pro_title_document</td>\n",
       "    </tr>\n",
       "    <tr>\n",
       "      <th>inspektor nadzór wewnętrzny</th>\n",
       "      <td>75</td>\n",
       "      <td>nam_fac_goe</td>\n",
       "    </tr>\n",
       "    <tr>\n",
       "      <th>Rzeczpospolita Polska</th>\n",
       "      <td>74</td>\n",
       "      <td>nam_loc_gpe_country</td>\n",
       "    </tr>\n",
       "    <tr>\n",
       "      <th>prezes urząd regulacja energetyka</th>\n",
       "      <td>71</td>\n",
       "      <td>nam_org_institution</td>\n",
       "    </tr>\n",
       "    <tr>\n",
       "      <th>fundusz</th>\n",
       "      <td>63</td>\n",
       "      <td>nam_org_organization</td>\n",
       "    </tr>\n",
       "    <tr>\n",
       "      <th>monitor Polska</th>\n",
       "      <td>61</td>\n",
       "      <td>nam_pro_title</td>\n",
       "    </tr>\n",
       "    <tr>\n",
       "      <th>kodeks karny</th>\n",
       "      <td>60</td>\n",
       "      <td>nam_pro_title_document</td>\n",
       "    </tr>\n",
       "    <tr>\n",
       "      <th>minister zdrowie i opieka społeczny</th>\n",
       "      <td>60</td>\n",
       "      <td>nam_org_institution</td>\n",
       "    </tr>\n",
       "    <tr>\n",
       "      <th>zakład ubezpieczenie społeczny</th>\n",
       "      <td>59</td>\n",
       "      <td>nam_org_institution</td>\n",
       "    </tr>\n",
       "    <tr>\n",
       "      <th>Warszawa</th>\n",
       "      <td>59</td>\n",
       "      <td>nam_loc_gpe_city</td>\n",
       "    </tr>\n",
       "    <tr>\n",
       "      <th>sejm</th>\n",
       "      <td>58</td>\n",
       "      <td>nam_org_institution</td>\n",
       "    </tr>\n",
       "    <tr>\n",
       "      <th>Polska</th>\n",
       "      <td>57</td>\n",
       "      <td>nam_loc_gpe_country</td>\n",
       "    </tr>\n",
       "    <tr>\n",
       "      <th>główny inspektor farmaceutyczny</th>\n",
       "      <td>55</td>\n",
       "      <td>nam_liv_person</td>\n",
       "    </tr>\n",
       "    <tr>\n",
       "      <th>siła zbrojny</th>\n",
       "      <td>54</td>\n",
       "      <td>nam_pro_title</td>\n",
       "    </tr>\n",
       "    <tr>\n",
       "      <th>zakład</th>\n",
       "      <td>53</td>\n",
       "      <td>nam_org_company</td>\n",
       "    </tr>\n",
       "    <tr>\n",
       "      <th>komendant główny straż graniczny</th>\n",
       "      <td>53</td>\n",
       "      <td>nam_org_institution</td>\n",
       "    </tr>\n",
       "    <tr>\n",
       "      <th>wspólnota europejski</th>\n",
       "      <td>50</td>\n",
       "      <td>nam_org_organization</td>\n",
       "    </tr>\n",
       "    <tr>\n",
       "      <th>Art</th>\n",
       "      <td>45</td>\n",
       "      <td>nam_liv_person</td>\n",
       "    </tr>\n",
       "    <tr>\n",
       "      <th>komisja europejski</th>\n",
       "      <td>45</td>\n",
       "      <td>nam_org_institution</td>\n",
       "    </tr>\n",
       "    <tr>\n",
       "      <th>inspekcja weterynaryjny</th>\n",
       "      <td>42</td>\n",
       "      <td>nam_org_institution</td>\n",
       "    </tr>\n",
       "    <tr>\n",
       "      <th>krajowy związek kasa</th>\n",
       "      <td>41</td>\n",
       "      <td>nam_org_institution</td>\n",
       "    </tr>\n",
       "    <tr>\n",
       "      <th>prezes fundusz</th>\n",
       "      <td>40</td>\n",
       "      <td>nam_org_institution</td>\n",
       "    </tr>\n",
       "    <tr>\n",
       "      <th>kodeks postępowanie administracyjny</th>\n",
       "      <td>40</td>\n",
       "      <td>nam_pro_title_document</td>\n",
       "    </tr>\n",
       "    <tr>\n",
       "      <th>kodeks postępowanie cywilny</th>\n",
       "      <td>39</td>\n",
       "      <td>nam_pro_title_document</td>\n",
       "    </tr>\n",
       "    <tr>\n",
       "      <th>komendant główny policja</th>\n",
       "      <td>39</td>\n",
       "      <td>nam_org_institution</td>\n",
       "    </tr>\n",
       "  </tbody>\n",
       "</table>\n",
       "</div>"
      ],
      "text/plain": [
       "                                        original                category\n",
       "lemmatized                                                              \n",
       "Dzieje_(Apostolskie) . u .                  1081  nam_pro_media_periodic\n",
       "rzeczpospolita polski                        677     nam_loc_gpe_country\n",
       "dziennik . u .                               414  nam_pro_media_periodic\n",
       "skarb państwo                                307     nam_org_institution\n",
       "minister sprawiedliwość                      274     nam_org_institution\n",
       "rada minister                                262     nam_org_institution\n",
       "minister obrona narodowy                     226     nam_org_institution\n",
       "unia europejski                              226    nam_org_organization\n",
       "państwowy komisja wyborczy                   215     nam_org_institution\n",
       "złoty                                        210        nam_oth_currency\n",
       "prezes rad minister                          195     nam_org_institution\n",
       "państwowy straż pożarny                      188    nam_org_organization\n",
       "polski                                       187         nam_adj_country\n",
       "urząd patentowy                              170     nam_org_institution\n",
       "minister finanse                             169     nam_org_institution\n",
       "prezes urząd                                 143     nam_org_institution\n",
       "kasa chora                                   124          nam_liv_person\n",
       "straż graniczny                              101          nam_liv_person\n",
       "europejski porozumienie o Wolny handel        85         nam_org_company\n",
       "euro                                          82        nam_oth_currency\n",
       "okręgowy komisja wyborczy                     81     nam_org_institution\n",
       "okręg                                         80    nam_org_organization\n",
       "sąd najwyższy                                 79     nam_org_institution\n",
       "urząd ochrona państwo                         78     nam_org_institution\n",
       "dziennik . URz                                78  nam_pro_media_periodic\n",
       "ordynacja podatkowy                           76  nam_pro_title_document\n",
       "inspektor nadzór wewnętrzny                   75             nam_fac_goe\n",
       "Rzeczpospolita Polska                         74     nam_loc_gpe_country\n",
       "prezes urząd regulacja energetyka             71     nam_org_institution\n",
       "fundusz                                       63    nam_org_organization\n",
       "monitor Polska                                61           nam_pro_title\n",
       "kodeks karny                                  60  nam_pro_title_document\n",
       "minister zdrowie i opieka społeczny           60     nam_org_institution\n",
       "zakład ubezpieczenie społeczny                59     nam_org_institution\n",
       "Warszawa                                      59        nam_loc_gpe_city\n",
       "sejm                                          58     nam_org_institution\n",
       "Polska                                        57     nam_loc_gpe_country\n",
       "główny inspektor farmaceutyczny               55          nam_liv_person\n",
       "siła zbrojny                                  54           nam_pro_title\n",
       "zakład                                        53         nam_org_company\n",
       "komendant główny straż graniczny              53     nam_org_institution\n",
       "wspólnota europejski                          50    nam_org_organization\n",
       "Art                                           45          nam_liv_person\n",
       "komisja europejski                            45     nam_org_institution\n",
       "inspekcja weterynaryjny                       42     nam_org_institution\n",
       "krajowy związek kasa                          41     nam_org_institution\n",
       "prezes fundusz                                40     nam_org_institution\n",
       "kodeks postępowanie administracyjny           40  nam_pro_title_document\n",
       "kodeks postępowanie cywilny                   39  nam_pro_title_document\n",
       "komendant główny policja                      39     nam_org_institution"
      ]
     },
     "execution_count": 202,
     "metadata": {},
     "output_type": "execute_result"
    }
   ],
   "source": [
    "clarin_entities.groupby(\"lemmatized\").agg({ \"original\": \"count\", \"category\": \"first\" }).sort_values([\"original\"], ascending=[0])[:50]"
   ]
  },
  {
   "cell_type": "markdown",
   "id": "cutting-portable",
   "metadata": {},
   "source": [
    "## Display 5 sentences containing at least 2 recognized named entities with different types. Highlight the recognized spans with color."
   ]
  },
  {
   "cell_type": "markdown",
   "id": "thermal-growing",
   "metadata": {},
   "source": [
    "Pierwszeństwo do uzyskania patentu, prawa ochronnego albo prawa z rejestracji oznacza się, na zasadach określonych w umowach międzynarodowych, według daty wystawienia wynalazku, wzoru użytkowego albo wzoru przemysłowego w **Polsce** (nam_loc) lub za granicą, na wystawie międzynarodowej oficjalnej lub oficjalnie uznanej, jeżeli zgłoszenie w **Urzędzie Patentowym** (nam_org) tego wynalazku, wzoru użytkowego albo wzoru przemysłowego dokonane zostanie w okresie 6 miesięcy od tej daty. \n",
    "\n"
   ]
  },
  {
   "cell_type": "markdown",
   "id": "quantitative-shelter",
   "metadata": {},
   "source": [
    "Pierwszeństwo do uzyskania patentu, prawa ochronnego albo prawa z rejestracji przysługuje także, na zasadach określonych w ust. 1, w przypadku wystawienia wynalazku, wzoru użytkowego albo wzoru przemysłowego na innej niż określona w ust. 1 wystawie publicznej w **Polsce** (nam_loc), wskazanej przez **Prezesa Urzędu Patentowego** (nam_org) w formie obwieszczenia w **Dzienniku Urzędowym Rzeczypospolitej Polskiej** (nam_pro) **\"Monitor Polski\"** (nam_pro). "
   ]
  },
  {
   "cell_type": "markdown",
   "id": "proof-notification",
   "metadata": {},
   "source": [
    "W przypadkach uzasadnionych potrzebą dokonywania odrębnych wpisów, w\n",
    "  **Urzędzie Patentowym** (nam_org) prowadzone są pomocnicze rejestry praw udzielonych z mocą\n",
    "  na terytorium **Rzeczypospolitej Polskiej** (nam_loc), zarejestrowanych w międzynarodowym\n",
    "  organie na podstawie umowy międzynarodowej."
   ]
  },
  {
   "cell_type": "markdown",
   "id": "agreed-penalty",
   "metadata": {},
   "source": [
    "**Prezes Rady Ministrów** (nam_org) lub minister ogłosi w **Dzienniku Ustaw Rzeczypospolitej Polskiej** (nam_pro) jednolite teksty ustaw, o których mowa w art. 14, 15, 18, 19, 23, 27, 33, 36, 47, 50-53, 60, 61, 62, 64, 74-76, 78, 82, 86, 90, 91, 97, 107, 126, 137, 139 z uwzględnieniem zmian wynikających z przepisów ogłoszonych przed dniem wydania jednolitych tekstów ustaw. "
   ]
  },
  {
   "cell_type": "markdown",
   "id": "backed-clone",
   "metadata": {},
   "source": [
    "**Obsługę Rady Nadzorczej** (nam_org) i **Zarządu** (nam_loc) zapewnia biuro **Narodowego Funduszu** (nam_org)."
   ]
  },
  {
   "cell_type": "markdown",
   "id": "fixed-bennett",
   "metadata": {},
   "source": [
    "## Answer the following questions:\n",
    "-  Which of the method (counting expressions with capital letters vs. NER) worked better for the task concerned with identification of the proper names? n82 model\n",
    "-  What are the drawbacks of the method based on capital letters? Not considering named entities containing words starting with lower letter\n",
    "-  What are the drawbacks of the method based on NER? \n",
    "-  Which of the coarse-grained NER groups has the best and which has the worst results? Try to justify this observation.\n",
    "-  Do you think NER is sufficient for identifying different occurrences of the same entity (i.e. consider \"USA\" and \"Stany Zjednoczone\" and \"Stany Zjednoczone Ameryki Północnej\")? If not, can you suggest an algorithm or a tool that would be able to group such names together?\n",
    "-  Can you think of a real world problem that would benefit the most from application of Named Entity Recognition algorithm?\n"
   ]
  },
  {
   "cell_type": "code",
   "execution_count": null,
   "id": "selected-bulgarian",
   "metadata": {},
   "outputs": [],
   "source": []
  }
 ],
 "metadata": {
  "kernelspec": {
   "display_name": "Python 3",
   "language": "python",
   "name": "python3"
  },
  "language_info": {
   "codemirror_mode": {
    "name": "ipython",
    "version": 3
   },
   "file_extension": ".py",
   "mimetype": "text/x-python",
   "name": "python",
   "nbconvert_exporter": "python",
   "pygments_lexer": "ipython3",
   "version": "3.8.8"
  }
 },
 "nbformat": 4,
 "nbformat_minor": 5
}
