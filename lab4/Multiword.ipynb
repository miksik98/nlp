{
 "cells": [
  {
   "cell_type": "markdown",
   "id": "varying-arthur",
   "metadata": {},
   "source": [
    "# Multiword expressions identification and extraction\n",
    "The task shows two simple methods useful for identifying multiword expressions (MWE) in corpora."
   ]
  },
  {
   "cell_type": "markdown",
   "id": "conventional-saturn",
   "metadata": {},
   "source": [
    "## Use SpaCy tokenizer API to tokenize the text from the law corpus."
   ]
  },
  {
   "cell_type": "code",
   "execution_count": 233,
   "id": "natural-survivor",
   "metadata": {},
   "outputs": [
    {
     "name": "stdout",
     "output_type": "stream",
     "text": [
      "Requirement already satisfied: spacy in c:\\users\\mikol\\anaconda3\\lib\\site-packages (3.2.0)\n",
      "Requirement already satisfied: catalogue<2.1.0,>=2.0.6 in c:\\users\\mikol\\anaconda3\\lib\\site-packages (from spacy) (2.0.6)\n",
      "Requirement already satisfied: typer<0.5.0,>=0.3.0 in c:\\users\\mikol\\anaconda3\\lib\\site-packages (from spacy) (0.4.0)\n",
      "Requirement already satisfied: murmurhash<1.1.0,>=0.28.0 in c:\\users\\mikol\\anaconda3\\lib\\site-packages (from spacy) (1.0.6)\n",
      "Requirement already satisfied: pathy>=0.3.5 in c:\\users\\mikol\\anaconda3\\lib\\site-packages (from spacy) (0.6.1)\n",
      "Requirement already satisfied: packaging>=20.0 in c:\\users\\mikol\\anaconda3\\lib\\site-packages (from spacy) (20.9)\n",
      "Requirement already satisfied: tqdm<5.0.0,>=4.38.0 in c:\\users\\mikol\\anaconda3\\lib\\site-packages (from spacy) (4.56.0)\n",
      "Requirement already satisfied: cymem<2.1.0,>=2.0.2 in c:\\users\\mikol\\anaconda3\\lib\\site-packages (from spacy) (2.0.6)\n",
      "Requirement already satisfied: pydantic!=1.8,!=1.8.1,<1.9.0,>=1.7.4 in c:\\users\\mikol\\anaconda3\\lib\\site-packages (from spacy) (1.8.2)\n",
      "Requirement already satisfied: langcodes<4.0.0,>=3.2.0 in c:\\users\\mikol\\anaconda3\\lib\\site-packages (from spacy) (3.3.0)\n",
      "Requirement already satisfied: spacy-legacy<3.1.0,>=3.0.8 in c:\\users\\mikol\\anaconda3\\lib\\site-packages (from spacy) (3.0.8)\n",
      "Requirement already satisfied: thinc<8.1.0,>=8.0.12 in c:\\users\\mikol\\anaconda3\\lib\\site-packages (from spacy) (8.0.13)\n",
      "Requirement already satisfied: requests<3.0.0,>=2.13.0 in c:\\users\\mikol\\anaconda3\\lib\\site-packages (from spacy) (2.25.1)\n",
      "Requirement already satisfied: numpy>=1.15.0 in c:\\users\\mikol\\anaconda3\\lib\\site-packages (from spacy) (1.19.2)\n",
      "Requirement already satisfied: blis<0.8.0,>=0.4.0 in c:\\users\\mikol\\anaconda3\\lib\\site-packages (from spacy) (0.7.5)\n",
      "Requirement already satisfied: wasabi<1.1.0,>=0.8.1 in c:\\users\\mikol\\anaconda3\\lib\\site-packages (from spacy) (0.8.2)\n",
      "Requirement already satisfied: spacy-loggers<2.0.0,>=1.0.0 in c:\\users\\mikol\\anaconda3\\lib\\site-packages (from spacy) (1.0.1)\n",
      "Requirement already satisfied: jinja2 in c:\\users\\mikol\\anaconda3\\lib\\site-packages (from spacy) (2.11.3)\n",
      "Requirement already satisfied: preshed<3.1.0,>=3.0.2 in c:\\users\\mikol\\anaconda3\\lib\\site-packages (from spacy) (3.0.6)\n",
      "Requirement already satisfied: setuptools in c:\\users\\mikol\\anaconda3\\lib\\site-packages (from spacy) (52.0.0.post20210125)\n",
      "Requirement already satisfied: srsly<3.0.0,>=2.4.1 in c:\\users\\mikol\\anaconda3\\lib\\site-packages (from spacy) (2.4.2)\n",
      "Requirement already satisfied: pyparsing>=2.0.2 in c:\\users\\mikol\\anaconda3\\lib\\site-packages (from packaging>=20.0->spacy) (2.4.7)\n",
      "Requirement already satisfied: smart-open<6.0.0,>=5.0.0 in c:\\users\\mikol\\anaconda3\\lib\\site-packages (from pathy>=0.3.5->spacy) (5.2.1)\n",
      "Requirement already satisfied: typing-extensions>=3.7.4.3 in c:\\users\\mikol\\anaconda3\\lib\\site-packages (from pydantic!=1.8,!=1.8.1,<1.9.0,>=1.7.4->spacy) (3.7.4.3)\n",
      "Requirement already satisfied: idna<3,>=2.5 in c:\\users\\mikol\\anaconda3\\lib\\site-packages (from requests<3.0.0,>=2.13.0->spacy) (2.10)\n",
      "Requirement already satisfied: urllib3<1.27,>=1.21.1 in c:\\users\\mikol\\anaconda3\\lib\\site-packages (from requests<3.0.0,>=2.13.0->spacy) (1.26.3)\n",
      "Requirement already satisfied: certifi>=2017.4.17 in c:\\users\\mikol\\anaconda3\\lib\\site-packages (from requests<3.0.0,>=2.13.0->spacy) (2021.5.30)\n",
      "Requirement already satisfied: chardet<5,>=3.0.2 in c:\\users\\mikol\\anaconda3\\lib\\site-packages (from requests<3.0.0,>=2.13.0->spacy) (4.0.0)\n",
      "Requirement already satisfied: click<9.0.0,>=7.1.1 in c:\\users\\mikol\\anaconda3\\lib\\site-packages (from typer<0.5.0,>=0.3.0->spacy) (7.1.2)\n",
      "Requirement already satisfied: MarkupSafe>=0.23 in c:\\users\\mikol\\anaconda3\\lib\\site-packages (from jinja2->spacy) (1.1.1)\n",
      "Collecting tabulate\n",
      "  Downloading tabulate-0.8.9-py3-none-any.whl (25 kB)\n",
      "Installing collected packages: tabulate\n",
      "Successfully installed tabulate-0.8.9\n"
     ]
    }
   ],
   "source": [
    "!pip install spacy\n",
    "!pip install tabulate"
   ]
  },
  {
   "cell_type": "code",
   "execution_count": 234,
   "id": "deluxe-quantum",
   "metadata": {},
   "outputs": [],
   "source": [
    "from spacy.tokenizer import Tokenizer\n",
    "from spacy.lang.pl import Polish\n",
    "from tqdm import tqdm\n",
    "import sys\n",
    "import os\n",
    "from collections import Counter\n",
    "import re\n",
    "from numpy import log\n",
    "from tabulate import tabulate"
   ]
  },
  {
   "cell_type": "code",
   "execution_count": 132,
   "id": "superb-austin",
   "metadata": {},
   "outputs": [],
   "source": [
    "ustawy_path = '../ustawy'"
   ]
  },
  {
   "cell_type": "code",
   "execution_count": 133,
   "id": "contemporary-hardware",
   "metadata": {},
   "outputs": [],
   "source": [
    "nlp = Polish()\n",
    "tokenizer = nlp.tokenizer"
   ]
  },
  {
   "cell_type": "code",
   "execution_count": 180,
   "id": "norwegian-insight",
   "metadata": {},
   "outputs": [
    {
     "name": "stdout",
     "output_type": "stream",
     "text": [
      "100%|██████████████████████████████████████████████████████████████████████████████| 1179/1179 [00:24<00:00, 48.06it/s]\n"
     ]
    }
   ],
   "source": [
    "tokens_map = {}\n",
    "\n",
    "with tqdm(total=1179, file=sys.stdout) as pbar: \n",
    "    for filename in os.listdir(ustawy_path):\n",
    "            with open(ustawy_path + '/' + filename, 'r', encoding='utf8') as f:\n",
    "                content = f.read()\n",
    "                tokens = [token.text.strip().lower() for token in tokenizer(content)]\n",
    "                tokens = list(filter(lambda x: x != '', tokens))\n",
    "                tokens_map[filename] = Counter(tokens)\n",
    "                pbar.update(1)"
   ]
  },
  {
   "cell_type": "code",
   "execution_count": 181,
   "id": "maritime-communication",
   "metadata": {},
   "outputs": [
    {
     "data": {
      "text/plain": [
       "[('dz', 4),\n",
       " ('.', 497),\n",
       " ('u', 9),\n",
       " ('z', 108),\n",
       " ('1993', 9),\n",
       " ('r', 20),\n",
       " ('nr', 22),\n",
       " ('129', 2),\n",
       " (',', 306),\n",
       " ('poz', 17)]"
      ]
     },
     "execution_count": 181,
     "metadata": {},
     "output_type": "execute_result"
    }
   ],
   "source": [
    "list(tokens_map['1993_599.txt'].items())[:10]"
   ]
  },
  {
   "cell_type": "code",
   "execution_count": 182,
   "id": "smart-blend",
   "metadata": {},
   "outputs": [],
   "source": [
    "def isalpha(s):\n",
    "    for letter in s:\n",
    "        if not letter.isalpha():\n",
    "            return False\n",
    "    return True "
   ]
  },
  {
   "cell_type": "code",
   "execution_count": 183,
   "id": "functioning-spectrum",
   "metadata": {},
   "outputs": [],
   "source": [
    "counter_total = Counter()\n",
    "\n",
    "for _, counter in tokens_map.items():\n",
    "    counter_total += counter"
   ]
  },
  {
   "cell_type": "code",
   "execution_count": 184,
   "id": "desperate-portland",
   "metadata": {},
   "outputs": [],
   "source": [
    "unigrams_total = Counter({x: count for x, count in counter_total.items() if isalpha(x)})"
   ]
  },
  {
   "cell_type": "code",
   "execution_count": 185,
   "id": "uniform-month",
   "metadata": {},
   "outputs": [
    {
     "data": {
      "text/plain": [
       "[('dz', 8885),\n",
       " ('u', 9153),\n",
       " ('z', 82443),\n",
       " ('r', 33177),\n",
       " ('nr', 44950),\n",
       " ('poz', 45224),\n",
       " ('ustawa', 3235),\n",
       " ('dnia', 17954),\n",
       " ('grudnia', 2117),\n",
       " ('o', 64776)]"
      ]
     },
     "execution_count": 185,
     "metadata": {},
     "output_type": "execute_result"
    }
   ],
   "source": [
    "list(unigrams_total.items())[:10]"
   ]
  },
  {
   "cell_type": "code",
   "execution_count": 186,
   "id": "canadian-lighting",
   "metadata": {},
   "outputs": [],
   "source": [
    "bigrams_map = {}\n",
    "\n",
    "for filename, tokens in tokens_map.items():\n",
    "    bigrams_map[filename] = []\n",
    "    previous_token = None\n",
    "    for token, _ in tokens.items():\n",
    "        if previous_token is not None:\n",
    "            bigrams_map[filename].append((previous_token, token))\n",
    "        previous_token = token\n",
    "    bigrams_map[filename] = Counter(bigrams_map[filename])"
   ]
  },
  {
   "cell_type": "markdown",
   "id": "objective-tennessee",
   "metadata": {},
   "source": [
    "## Compute bigram counts of downcased tokens."
   ]
  },
  {
   "cell_type": "code",
   "execution_count": 187,
   "id": "mineral-particle",
   "metadata": {},
   "outputs": [
    {
     "name": "stdout",
     "output_type": "stream",
     "text": [
      "100%|██████████████████████████████████████████████████████████████████████████████| 1179/1179 [00:17<00:00, 67.11it/s]\n"
     ]
    }
   ],
   "source": [
    "bigrams_total = Counter()\n",
    "\n",
    "with tqdm(total=1179, file=sys.stdout) as pbar: \n",
    "    for _, counter in bigrams_map.items():\n",
    "        bigrams_total += counter\n",
    "        pbar.update(1)"
   ]
  },
  {
   "cell_type": "code",
   "execution_count": 188,
   "id": "running-antarctica",
   "metadata": {},
   "outputs": [
    {
     "data": {
      "text/plain": [
       "[(('dz', '.'), 946),\n",
       " (('.', 'u'), 946),\n",
       " (('u', 'z'), 946),\n",
       " (('z', '1993'), 8),\n",
       " (('1993', 'r'), 8),\n",
       " (('r', 'nr'), 946),\n",
       " (('nr', '129'), 11),\n",
       " (('129', ','), 11),\n",
       " ((',', 'poz'), 1032),\n",
       " (('poz', '599'), 1)]"
      ]
     },
     "execution_count": 188,
     "metadata": {},
     "output_type": "execute_result"
    }
   ],
   "source": [
    "list(bigrams_total.items())[:10]"
   ]
  },
  {
   "cell_type": "markdown",
   "id": "welsh-spanish",
   "metadata": {},
   "source": [
    "## Discard bigrams containing characters other than letters. Make sure that you discard the invalid entries after computing the bigram counts."
   ]
  },
  {
   "cell_type": "code",
   "execution_count": 189,
   "id": "cross-lebanon",
   "metadata": {},
   "outputs": [],
   "source": [
    "bigrams_total = Counter({x: count for x, count in bigrams_total.items() if isalpha(x[0]) and isalpha(x[1])})"
   ]
  },
  {
   "cell_type": "code",
   "execution_count": 190,
   "id": "welsh-pontiac",
   "metadata": {},
   "outputs": [
    {
     "data": {
      "text/plain": [
       "[(('u', 'z'), 946),\n",
       " (('r', 'nr'), 946),\n",
       " (('ustawa', 'dnia'), 820),\n",
       " (('grudnia', 'o'), 78),\n",
       " (('o', 'zmianie'), 695),\n",
       " (('zmianie', 'ustawy'), 505),\n",
       " (('ustawy', 'podatku'), 31),\n",
       " (('podatku', 'od'), 25),\n",
       " (('od', 'towarów'), 25),\n",
       " (('towarów', 'i'), 17)]"
      ]
     },
     "execution_count": 190,
     "metadata": {},
     "output_type": "execute_result"
    }
   ],
   "source": [
    "list(bigrams_total.items())[:10]"
   ]
  },
  {
   "cell_type": "code",
   "execution_count": 191,
   "id": "disturbed-tuning",
   "metadata": {},
   "outputs": [
    {
     "data": {
      "text/plain": [
       "3579380"
      ]
     },
     "execution_count": 191,
     "metadata": {},
     "output_type": "execute_result"
    }
   ],
   "source": [
    "total = sum(unigrams_total.values())\n",
    "total"
   ]
  },
  {
   "cell_type": "markdown",
   "id": "hollow-madness",
   "metadata": {},
   "source": [
    "## Use pointwise mutual information to compute the measure for all pairs of words."
   ]
  },
  {
   "cell_type": "code",
   "execution_count": 210,
   "id": "floral-catalyst",
   "metadata": {},
   "outputs": [],
   "source": [
    "def p(word_occ):\n",
    "    return word_occ / total\n",
    "\n",
    "def pmi2(word1, word2):\n",
    "    word1_occ = unigrams_total[word1]\n",
    "    word2_occ = unigrams_total[word2]\n",
    "    together_occ = bigrams_total[(word1, word2)]\n",
    "    return log(p(together_occ)) - log(p(word1_occ)) - log(p(word2_occ))"
   ]
  },
  {
   "cell_type": "code",
   "execution_count": 215,
   "id": "nonprofit-tulsa",
   "metadata": {},
   "outputs": [],
   "source": [
    "bigrams_total_pmi = {bigram: pmi2(bigram[0], bigram[1]) for bigram, _  in bigrams_total.items()}"
   ]
  },
  {
   "cell_type": "markdown",
   "id": "literary-facing",
   "metadata": {},
   "source": [
    "## Sort the word pairs according to that measure in the descending order and determine top 10 entries."
   ]
  },
  {
   "cell_type": "code",
   "execution_count": 216,
   "id": "pacific-costume",
   "metadata": {},
   "outputs": [
    {
     "data": {
      "text/plain": [
       "[(('kołowe', 'jednoosiowe'), 15.090700159021198),\n",
       " (('jednoosiowe', 'dwuosiowe'), 15.090700159021198),\n",
       " (('pieluchy', 'pielucho'), 15.090700159021198),\n",
       " (('witaminizowane', 'talki'), 15.090700159021198),\n",
       " (('kijki', 'nart'), 15.090700159021198),\n",
       " (('ceratki', 'gryzaczki'), 15.090700159021198),\n",
       " (('mundurowe', 'zuchów'), 15.090700159021198),\n",
       " (('zuchów', 'harcerzy'), 15.090700159021198),\n",
       " (('zbiornikowe', 'wyłą'), 15.090700159021198),\n",
       " (('zbrojeń', 'żelbeto'), 15.090700159021198)]"
      ]
     },
     "execution_count": 216,
     "metadata": {},
     "output_type": "execute_result"
    }
   ],
   "source": [
    "Counter(bigrams_total_pmi).most_common()[:10]"
   ]
  },
  {
   "cell_type": "markdown",
   "id": "allied-bridge",
   "metadata": {},
   "source": [
    "## Filter bigrams with number of occurrences lower than 5. Determine top 10 entries for the remaining dataset (>=5 occurrences)."
   ]
  },
  {
   "cell_type": "code",
   "execution_count": 217,
   "id": "hollow-copper",
   "metadata": {},
   "outputs": [],
   "source": [
    "bigrams_filtered_pmi = {bigram: pmi2(bigram[0], bigram[1]) for bigram, count in bigrams_total.items() if count >= 5}"
   ]
  },
  {
   "cell_type": "code",
   "execution_count": 228,
   "id": "improving-thinking",
   "metadata": {},
   "outputs": [
    {
     "data": {
      "text/plain": [
       "[(('świeckie', 'przygotowujące'), 13.481262246587098),\n",
       " (('brat', 'siostra'), 13.481262246587098),\n",
       " (('grzegorz', 'schetyna'), 13.481262246587098),\n",
       " (('krewnym', 'powinowatym'), 13.144790009965885),\n",
       " (('klęską', 'żywiołową'), 13.144790009965885),\n",
       " (('chwytów', 'obezwładniających'), 13.144790009965885),\n",
       " (('podrobiony', 'przerobiony'), 12.96246845317193),\n",
       " (('chrześcijan', 'baptystów'), 12.80831777334467),\n",
       " (('zapieczętowanej', 'kopercie'), 12.80831777334467),\n",
       " (('nadmiernymi', 'trudnościami'), 12.788115066027153)]"
      ]
     },
     "execution_count": 228,
     "metadata": {},
     "output_type": "execute_result"
    }
   ],
   "source": [
    "bigrams_pmi_top10 = Counter(bigrams_filtered_pmi).most_common()[:10]\n",
    "bigrams_pmi_top10"
   ]
  },
  {
   "cell_type": "markdown",
   "id": "lightweight-sewing",
   "metadata": {},
   "source": [
    "## Use log likelihood ratio (LLR) to compute the measure for all pairs of words."
   ]
  },
  {
   "cell_type": "code",
   "execution_count": 197,
   "id": "adult-healthcare",
   "metadata": {},
   "outputs": [],
   "source": [
    "total_bigrams = sum(bigrams_total.values())"
   ]
  },
  {
   "cell_type": "code",
   "execution_count": 198,
   "id": "excess-narrow",
   "metadata": {},
   "outputs": [],
   "source": [
    "def H(counts):\n",
    "    total = float(sum(counts))\n",
    "    return sum([k * log(k / total + (k==0)) for k in counts])\n",
    "\n",
    "\n",
    "def llr2(word1, word2):\n",
    "    together_occ = bigrams_total[(word1, word2)]\n",
    "    k11 = together_occ\n",
    "    k12 = unigrams_total[word2] - together_occ\n",
    "    k21 = unigrams_total[word1] - together_occ\n",
    "    k22 = total_bigrams - k12 - k21 - k11\n",
    "    \n",
    "    return 2 * (H([k11, k12, k21, k22]) - H([k11 + k12, k21 + k22]) - H([k11 + k21, k12 + k22]))"
   ]
  },
  {
   "cell_type": "code",
   "execution_count": 199,
   "id": "identified-crown",
   "metadata": {},
   "outputs": [],
   "source": [
    "bigrams_total_llr = {bigram: llr2(bigram[0], bigram[1]) for bigram, _  in bigrams_total.items()}"
   ]
  },
  {
   "cell_type": "markdown",
   "id": "amended-porter",
   "metadata": {},
   "source": [
    "## Sort the word pairs according to that measure in the descending order and display top 10 entries."
   ]
  },
  {
   "cell_type": "code",
   "execution_count": 227,
   "id": "cooperative-serial",
   "metadata": {},
   "outputs": [
    {
     "data": {
      "text/plain": [
       "[(('w', 'art'), 60644.41671135172),\n",
       " (('art', 'w'), 60453.14603600174),\n",
       " (('do', 'w'), 43015.97084866068),\n",
       " (('w', 'ust'), 37649.54294047924),\n",
       " (('lub', 'w'), 31994.111593838432),\n",
       " (('się', 'w'), 31953.025928710296),\n",
       " (('oraz', 'w'), 23182.058776851685),\n",
       " (('z', 'art'), 21935.846033818438),\n",
       " (('mowa', 'w'), 19655.880910842447),\n",
       " (('art', 'do'), 16076.934222189826)]"
      ]
     },
     "execution_count": 227,
     "metadata": {},
     "output_type": "execute_result"
    }
   ],
   "source": [
    "bigrams_llr_top10 = Counter(bigrams_total_llr).most_common()[:10]\n",
    "bigrams_llr_top10"
   ]
  },
  {
   "cell_type": "markdown",
   "id": "married-natural",
   "metadata": {},
   "source": [
    "## Compute trigram counts for the whole corpus and perform the same filtering."
   ]
  },
  {
   "cell_type": "code",
   "execution_count": 201,
   "id": "patient-luxembourg",
   "metadata": {},
   "outputs": [],
   "source": [
    "trigrams_map = {}\n",
    "\n",
    "for filename, tokens in tokens_map.items():\n",
    "    trigrams_map[filename] = []\n",
    "    prev_token = None\n",
    "    prev_prev_token = None\n",
    "    for token, _ in tokens.items():\n",
    "        if prev_token is not None and prev_prev_token is not None:\n",
    "            trigrams_map[filename].append((prev_prev_token, prev_token, token))\n",
    "        prev_prev_token = prev_token    \n",
    "        prev_token = token\n",
    "    trigrams_map[filename] = Counter(trigrams_map[filename])"
   ]
  },
  {
   "cell_type": "code",
   "execution_count": 202,
   "id": "fiscal-making",
   "metadata": {},
   "outputs": [
    {
     "name": "stdout",
     "output_type": "stream",
     "text": [
      "100%|██████████████████████████████████████████████████████████████████████████████| 1179/1179 [00:29<00:00, 39.52it/s]\n"
     ]
    }
   ],
   "source": [
    "trigrams_total = Counter()\n",
    "\n",
    "with tqdm(total=1179, file=sys.stdout) as pbar: \n",
    "    for _, counter in trigrams_map.items():\n",
    "        trigrams_total += counter\n",
    "        pbar.update(1)"
   ]
  },
  {
   "cell_type": "code",
   "execution_count": 203,
   "id": "streaming-singer",
   "metadata": {},
   "outputs": [
    {
     "data": {
      "text/plain": [
       "[(('dz', '.', 'u'), 946),\n",
       " (('.', 'u', 'z'), 946),\n",
       " (('u', 'z', '1993'), 8),\n",
       " (('z', '1993', 'r'), 8),\n",
       " (('1993', 'r', 'nr'), 8),\n",
       " (('r', 'nr', '129'), 11),\n",
       " (('nr', '129', ','), 11),\n",
       " (('129', ',', 'poz'), 11),\n",
       " ((',', 'poz', '599'), 1),\n",
       " (('poz', '599', 'ustawa'), 1)]"
      ]
     },
     "execution_count": 203,
     "metadata": {},
     "output_type": "execute_result"
    }
   ],
   "source": [
    "list(trigrams_total.items())[:10]"
   ]
  },
  {
   "cell_type": "code",
   "execution_count": 204,
   "id": "monthly-arthritis",
   "metadata": {},
   "outputs": [],
   "source": [
    "trigrams_total = Counter({trigram: count for trigram, count in trigrams_total.items() if isalpha(trigram[0]) and isalpha(trigram[1]) and isalpha(trigram[2])})"
   ]
  },
  {
   "cell_type": "code",
   "execution_count": 205,
   "id": "associate-labor",
   "metadata": {},
   "outputs": [
    {
     "data": {
      "text/plain": [
       "[(('grudnia', 'o', 'zmianie'), 64),\n",
       " (('o', 'zmianie', 'ustawy'), 502),\n",
       " (('zmianie', 'ustawy', 'podatku'), 31),\n",
       " (('ustawy', 'podatku', 'od'), 16),\n",
       " (('podatku', 'od', 'towarów'), 18),\n",
       " (('od', 'towarów', 'i'), 15),\n",
       " (('towarów', 'i', 'usług'), 17),\n",
       " (('i', 'usług', 'oraz'), 14),\n",
       " (('usług', 'oraz', 'akcyzowym'), 15),\n",
       " (('oraz', 'akcyzowym', 'art'), 13)]"
      ]
     },
     "execution_count": 205,
     "metadata": {},
     "output_type": "execute_result"
    }
   ],
   "source": [
    "list(trigrams_total.items())[:10]"
   ]
  },
  {
   "cell_type": "markdown",
   "id": "indian-plaintiff",
   "metadata": {},
   "source": [
    "## Use PMI (with 5 occurrence threshold) and LLR to compute top 10 results for the trigrams. Devise a method for computing the values, based on the results for bigrams."
   ]
  },
  {
   "cell_type": "code",
   "execution_count": 206,
   "id": "decreased-financing",
   "metadata": {},
   "outputs": [],
   "source": [
    "total_trigrams = sum(trigrams_total.values())"
   ]
  },
  {
   "cell_type": "code",
   "execution_count": 207,
   "id": "charming-consequence",
   "metadata": {},
   "outputs": [],
   "source": [
    "def llr3(word1, word2, word3):\n",
    "    together_occ = trigrams_total[(word1, word2, word3)]\n",
    "    k11 = together_occ\n",
    "    k12 = bigrams_total[(word2, word3)] - together_occ\n",
    "    k21 = bigrams_total[(word1, word2)] - together_occ\n",
    "    k22 = total_trigrams - (k11 + k12 + k21)\n",
    "    return 2 * (H([k11, k12, k21, k22]) - H([k11 + k12, k21 + k22]) - H([k11 + k21, k12 + k22]))"
   ]
  },
  {
   "cell_type": "code",
   "execution_count": 208,
   "id": "funky-token",
   "metadata": {},
   "outputs": [],
   "source": [
    "trigrams_total_llr = {trigram: llr3(trigram[0], trigram[1], trigram[2]) for trigram, _  in trigrams_total.items()}"
   ]
  },
  {
   "cell_type": "code",
   "execution_count": 225,
   "id": "tested-collection",
   "metadata": {},
   "outputs": [
    {
     "data": {
      "text/plain": [
       "[(('wprowadza', 'się', 'następujące'), 8915.192356069196),\n",
       " (('się', 'następujące', 'zmiany'), 8608.4501027276),\n",
       " (('o', 'zmianie', 'ustawy'), 7348.741284552849),\n",
       " (('dni', 'od', 'ogłoszenia'), 3787.3696206025415),\n",
       " (('ustawa', 'z', 'dnia'), 3783.0820706745662),\n",
       " (('określi', 'drodze', 'rozporządzenia'), 3518.7683073980124),\n",
       " (('życie', 'po', 'upływie'), 3395.511101729391),\n",
       " (('przepisy', 'ogólne', 'art'), 3238.6399183346157),\n",
       " (('minister', 'właściwy', 'spraw'), 2878.3895869530506),\n",
       " (('wchodzi', 'życie', 'po'), 2770.397145362789)]"
      ]
     },
     "execution_count": 225,
     "metadata": {},
     "output_type": "execute_result"
    }
   ],
   "source": [
    "trigrams_llr_top10 = Counter(trigrams_total_llr).most_common()[:10]\n",
    "trigrams_llr_top10"
   ]
  },
  {
   "cell_type": "code",
   "execution_count": 219,
   "id": "german-script",
   "metadata": {},
   "outputs": [],
   "source": [
    "def pmi3(word1, word2, word3):\n",
    "    word1_occ = unigrams_total[word1]\n",
    "    word2_occ = unigrams_total[word2]\n",
    "    word3_occ = unigrams_total[word3]\n",
    "    together_occ = trigrams_total[(word1, word2, word3)]\n",
    "    return log(p(together_occ)) - log(p(word1_occ)) - log(p(word2_occ)) - log(p(word3_occ))"
   ]
  },
  {
   "cell_type": "code",
   "execution_count": 220,
   "id": "downtown-latvia",
   "metadata": {},
   "outputs": [],
   "source": [
    "trigrams_filtered_pmi = {trigram: pmi3(trigram[0], trigram[1], trigram[2]) for trigram, count in trigrams_total.items() if count >= 5}"
   ]
  },
  {
   "cell_type": "code",
   "execution_count": 224,
   "id": "loaded-fields",
   "metadata": {},
   "outputs": [
    {
     "data": {
      "text/plain": [
       "[(('estońskiej', 'cypryjskiej', 'łotewskiej'), 25.430276219431228),\n",
       " (('cypryjskiej', 'łotewskiej', 'litewskiej'), 25.3249157037734),\n",
       " (('brytanii', 'irlandii', 'północnej'), 25.316947534124225),\n",
       " (('ziemiach', 'zachodnich', 'północnych'), 25.180815359799645),\n",
       " (('łotewskiej', 'litewskiej', 'węgierskiej'), 25.06255143930591),\n",
       " (('przedwczesnego', 'wyrębu', 'drzewostanu'), 24.923904946014616),\n",
       " (('prostej', 'brat', 'siostra'), 24.908400759478653),\n",
       " (('czeskiej', 'estońskiej', 'cypryjskiej'), 24.76529991583798),\n",
       " (('litewskiej', 'węgierskiej', 'malty'), 24.35835442255938),\n",
       " (('wielkiej', 'brytanii', 'irlandii'), 24.218335245456114)]"
      ]
     },
     "execution_count": 224,
     "metadata": {},
     "output_type": "execute_result"
    }
   ],
   "source": [
    "trigrams_pmi_top10 = Counter(trigrams_filtered_pmi).most_common()[:10]\n",
    "trigrams_pmi_top10"
   ]
  },
  {
   "cell_type": "markdown",
   "id": "fantastic-brighton",
   "metadata": {},
   "source": [
    "\n",
    "## Create a table comparing the methods (separate table for bigrams and trigrams)."
   ]
  },
  {
   "cell_type": "code",
   "execution_count": 230,
   "id": "rotary-given",
   "metadata": {},
   "outputs": [],
   "source": [
    "def extract_ngram(result):\n",
    "    return list(map(lambda x: x[0], result))"
   ]
  },
  {
   "cell_type": "code",
   "execution_count": 231,
   "id": "conservative-least",
   "metadata": {},
   "outputs": [
    {
     "data": {
      "text/plain": [
       "[('świeckie', 'przygotowujące'),\n",
       " ('brat', 'siostra'),\n",
       " ('grzegorz', 'schetyna'),\n",
       " ('krewnym', 'powinowatym'),\n",
       " ('klęską', 'żywiołową'),\n",
       " ('chwytów', 'obezwładniających'),\n",
       " ('podrobiony', 'przerobiony'),\n",
       " ('chrześcijan', 'baptystów'),\n",
       " ('zapieczętowanej', 'kopercie'),\n",
       " ('nadmiernymi', 'trudnościami')]"
      ]
     },
     "execution_count": 231,
     "metadata": {},
     "output_type": "execute_result"
    }
   ],
   "source": [
    "extract_ngram(bigrams_pmi_top10)"
   ]
  },
  {
   "cell_type": "markdown",
   "id": "lightweight-sudan",
   "metadata": {},
   "source": [
    "### Table for bigrams"
   ]
  },
  {
   "cell_type": "code",
   "execution_count": 236,
   "id": "taken-judge",
   "metadata": {},
   "outputs": [
    {
     "name": "stdout",
     "output_type": "stream",
     "text": [
      "╒══════════════════════════════════╤═══════════════╕\n",
      "│ PMI                              │ LLR           │\n",
      "╞══════════════════════════════════╪═══════════════╡\n",
      "│ ('świeckie', 'przygotowujące')   │ ('w', 'art')  │\n",
      "├──────────────────────────────────┼───────────────┤\n",
      "│ ('brat', 'siostra')              │ ('art', 'w')  │\n",
      "├──────────────────────────────────┼───────────────┤\n",
      "│ ('grzegorz', 'schetyna')         │ ('do', 'w')   │\n",
      "├──────────────────────────────────┼───────────────┤\n",
      "│ ('krewnym', 'powinowatym')       │ ('w', 'ust')  │\n",
      "├──────────────────────────────────┼───────────────┤\n",
      "│ ('klęską', 'żywiołową')          │ ('lub', 'w')  │\n",
      "├──────────────────────────────────┼───────────────┤\n",
      "│ ('chwytów', 'obezwładniających') │ ('się', 'w')  │\n",
      "├──────────────────────────────────┼───────────────┤\n",
      "│ ('podrobiony', 'przerobiony')    │ ('oraz', 'w') │\n",
      "├──────────────────────────────────┼───────────────┤\n",
      "│ ('chrześcijan', 'baptystów')     │ ('z', 'art')  │\n",
      "├──────────────────────────────────┼───────────────┤\n",
      "│ ('zapieczętowanej', 'kopercie')  │ ('mowa', 'w') │\n",
      "├──────────────────────────────────┼───────────────┤\n",
      "│ ('nadmiernymi', 'trudnościami')  │ ('art', 'do') │\n",
      "╘══════════════════════════════════╧═══════════════╛\n"
     ]
    }
   ],
   "source": [
    "bigram_table = {'PMI': extract_ngram(bigrams_pmi_top10), 'LLR': extract_ngram(bigrams_llr_top10)}\n",
    "print(tabulate(bigram_table, headers='keys', tablefmt='fancy_grid'))"
   ]
  },
  {
   "cell_type": "markdown",
   "id": "raised-debut",
   "metadata": {},
   "source": [
    "### Table for trigrams"
   ]
  },
  {
   "cell_type": "code",
   "execution_count": 237,
   "id": "dirty-width",
   "metadata": {},
   "outputs": [
    {
     "name": "stdout",
     "output_type": "stream",
     "text": [
      "╒═════════════════════════════════════════════╤═════════════════════════════════════════╕\n",
      "│ PMI                                         │ LLR                                     │\n",
      "╞═════════════════════════════════════════════╪═════════════════════════════════════════╡\n",
      "│ ('estońskiej', 'cypryjskiej', 'łotewskiej') │ ('wprowadza', 'się', 'następujące')     │\n",
      "├─────────────────────────────────────────────┼─────────────────────────────────────────┤\n",
      "│ ('cypryjskiej', 'łotewskiej', 'litewskiej') │ ('się', 'następujące', 'zmiany')        │\n",
      "├─────────────────────────────────────────────┼─────────────────────────────────────────┤\n",
      "│ ('brytanii', 'irlandii', 'północnej')       │ ('o', 'zmianie', 'ustawy')              │\n",
      "├─────────────────────────────────────────────┼─────────────────────────────────────────┤\n",
      "│ ('ziemiach', 'zachodnich', 'północnych')    │ ('dni', 'od', 'ogłoszenia')             │\n",
      "├─────────────────────────────────────────────┼─────────────────────────────────────────┤\n",
      "│ ('łotewskiej', 'litewskiej', 'węgierskiej') │ ('ustawa', 'z', 'dnia')                 │\n",
      "├─────────────────────────────────────────────┼─────────────────────────────────────────┤\n",
      "│ ('przedwczesnego', 'wyrębu', 'drzewostanu') │ ('określi', 'drodze', 'rozporządzenia') │\n",
      "├─────────────────────────────────────────────┼─────────────────────────────────────────┤\n",
      "│ ('prostej', 'brat', 'siostra')              │ ('życie', 'po', 'upływie')              │\n",
      "├─────────────────────────────────────────────┼─────────────────────────────────────────┤\n",
      "│ ('czeskiej', 'estońskiej', 'cypryjskiej')   │ ('przepisy', 'ogólne', 'art')           │\n",
      "├─────────────────────────────────────────────┼─────────────────────────────────────────┤\n",
      "│ ('litewskiej', 'węgierskiej', 'malty')      │ ('minister', 'właściwy', 'spraw')       │\n",
      "├─────────────────────────────────────────────┼─────────────────────────────────────────┤\n",
      "│ ('wielkiej', 'brytanii', 'irlandii')        │ ('wchodzi', 'życie', 'po')              │\n",
      "╘═════════════════════════════════════════════╧═════════════════════════════════════════╛\n"
     ]
    }
   ],
   "source": [
    "trigram_table = {'PMI': extract_ngram(trigrams_pmi_top10), 'LLR': extract_ngram(trigrams_llr_top10)}\n",
    "print(tabulate(trigram_table, headers='keys', tablefmt='fancy_grid'))"
   ]
  },
  {
   "cell_type": "markdown",
   "id": "intellectual-darkness",
   "metadata": {},
   "source": [
    "### Why do we have to filter the bigrams, rather than the token sequence?\n",
    "\n",
    "Bigrams were created before cleaning tokens from not containing letters, so we received more meaningful collocations."
   ]
  },
  {
   "cell_type": "markdown",
   "id": "simple-robert",
   "metadata": {},
   "source": [
    "### Which measure (PMI, PMI with filtering, LLR) works better for the bigrams and which for the trigrams?\n",
    "In my opinion LLR works better for both the bigrams and the trigrams (more meaningful collocations found).\n",
    "\n",
    "PMI with filtering gave better results than the one without."
   ]
  },
  {
   "cell_type": "markdown",
   "id": "improved-breath",
   "metadata": {},
   "source": [
    "### What types of expressions are discovered by the methods.\n",
    "- prepositional phrase \n",
    "- epithet\n",
    "- etc."
   ]
  },
  {
   "cell_type": "markdown",
   "id": "victorian-example",
   "metadata": {},
   "source": [
    "### Can you devise a different type of filtering that would yield better results?\n",
    "Filter with parts of speech (for example get rid of 'czeskiej estońskiej cypryjskiej', which is not interesting).\n"
   ]
  }
 ],
 "metadata": {
  "kernelspec": {
   "display_name": "Python 3",
   "language": "python",
   "name": "python3"
  },
  "language_info": {
   "codemirror_mode": {
    "name": "ipython",
    "version": 3
   },
   "file_extension": ".py",
   "mimetype": "text/x-python",
   "name": "python",
   "nbconvert_exporter": "python",
   "pygments_lexer": "ipython3",
   "version": "3.8.8"
  }
 },
 "nbformat": 4,
 "nbformat_minor": 5
}
